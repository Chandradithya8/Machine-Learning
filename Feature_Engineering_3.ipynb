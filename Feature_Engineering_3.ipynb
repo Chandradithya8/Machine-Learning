{
  "nbformat": 4,
  "nbformat_minor": 0,
  "metadata": {
    "colab": {
      "name": "Feature_Engineering_3.ipynb",
      "provenance": [],
      "collapsed_sections": [],
      "authorship_tag": "ABX9TyM9P7QucPidkkLBFGXx7r8k",
      "include_colab_link": true
    },
    "kernelspec": {
      "name": "python3",
      "display_name": "Python 3"
    }
  },
  "cells": [
    {
      "cell_type": "markdown",
      "metadata": {
        "id": "view-in-github",
        "colab_type": "text"
      },
      "source": [
        "<a href=\"https://colab.research.google.com/github/Chandradithya8/Machine-Learning/blob/master/Feature_Engineering_3.ipynb\" target=\"_parent\"><img src=\"https://colab.research.google.com/assets/colab-badge.svg\" alt=\"Open In Colab\"/></a>"
      ]
    },
    {
      "cell_type": "markdown",
      "metadata": {
        "id": "oYptOzlhIQPY"
      },
      "source": [
        "# Feature Scaling\n",
        "\n",
        "Transformation of Features\n",
        "Why Transformation of Features Are Required?\n",
        "\n",
        "Linear Regression---Gradient Descent ----Global Minima\n",
        "Algorithms like KNN,K Means,Hierarichal Clustering--- Eucledian Distance\n",
        "Every Point has some vectors and Directiom\n",
        "\n",
        "Deep Learning Techniques(Standardization, Scaling) 1.ANN--->GLobal Minima, Gradient 2.CNN 3.RNN\n",
        "\n",
        "0-255 pixels\n",
        "\n",
        "Types Of Transformation\n",
        "1. Normalization And Standardization\n",
        "2. Scaling to Minimum And Maximum values\n",
        "3. Scaling To Median And Quantiles\n",
        "4. Guassian Transformation \n",
        "      *Logarithmic Transformation \n",
        "      *Reciprocal Trnasformation \n",
        "      *Square Root Transformation \n",
        "      *Exponential Trnasformation\n",
        "      *Box Cox Transformation"
      ]
    },
    {
      "cell_type": "markdown",
      "metadata": {
        "id": "IdPn0mBzJJFz"
      },
      "source": [
        " Standardization- (StandardScaler)\n",
        "We try to bring all the variables or fetures to a similar scale. Standardization means centering the variable at zero\n",
        "z=(x-x_mean)/std (most commomly used im ML algorithms)"
      ]
    },
    {
      "cell_type": "code",
      "metadata": {
        "id": "5ueNDB8CJG-M",
        "outputId": "386e52d2-a111-41a1-c532-9012808b2712",
        "colab": {
          "base_uri": "https://localhost:8080/",
          "height": 198
        }
      },
      "source": [
        "import pandas as pd\n",
        "df=pd.read_csv(\"/content/titanic.csv.txt\",usecols=['Pclass','Age','Fare','Survived'])\n",
        "df.head()"
      ],
      "execution_count": null,
      "outputs": [
        {
          "output_type": "execute_result",
          "data": {
            "text/html": [
              "<div>\n",
              "<style scoped>\n",
              "    .dataframe tbody tr th:only-of-type {\n",
              "        vertical-align: middle;\n",
              "    }\n",
              "\n",
              "    .dataframe tbody tr th {\n",
              "        vertical-align: top;\n",
              "    }\n",
              "\n",
              "    .dataframe thead th {\n",
              "        text-align: right;\n",
              "    }\n",
              "</style>\n",
              "<table border=\"1\" class=\"dataframe\">\n",
              "  <thead>\n",
              "    <tr style=\"text-align: right;\">\n",
              "      <th></th>\n",
              "      <th>Survived</th>\n",
              "      <th>Pclass</th>\n",
              "      <th>Age</th>\n",
              "      <th>Fare</th>\n",
              "    </tr>\n",
              "  </thead>\n",
              "  <tbody>\n",
              "    <tr>\n",
              "      <th>0</th>\n",
              "      <td>0</td>\n",
              "      <td>3</td>\n",
              "      <td>22.0</td>\n",
              "      <td>7.2500</td>\n",
              "    </tr>\n",
              "    <tr>\n",
              "      <th>1</th>\n",
              "      <td>1</td>\n",
              "      <td>1</td>\n",
              "      <td>38.0</td>\n",
              "      <td>71.2833</td>\n",
              "    </tr>\n",
              "    <tr>\n",
              "      <th>2</th>\n",
              "      <td>1</td>\n",
              "      <td>3</td>\n",
              "      <td>26.0</td>\n",
              "      <td>7.9250</td>\n",
              "    </tr>\n",
              "    <tr>\n",
              "      <th>3</th>\n",
              "      <td>1</td>\n",
              "      <td>1</td>\n",
              "      <td>35.0</td>\n",
              "      <td>53.1000</td>\n",
              "    </tr>\n",
              "    <tr>\n",
              "      <th>4</th>\n",
              "      <td>0</td>\n",
              "      <td>3</td>\n",
              "      <td>35.0</td>\n",
              "      <td>8.0500</td>\n",
              "    </tr>\n",
              "  </tbody>\n",
              "</table>\n",
              "</div>"
            ],
            "text/plain": [
              "   Survived  Pclass   Age     Fare\n",
              "0         0       3  22.0   7.2500\n",
              "1         1       1  38.0  71.2833\n",
              "2         1       3  26.0   7.9250\n",
              "3         1       1  35.0  53.1000\n",
              "4         0       3  35.0   8.0500"
            ]
          },
          "metadata": {
            "tags": []
          },
          "execution_count": 1
        }
      ]
    },
    {
      "cell_type": "code",
      "metadata": {
        "id": "vbslX91rKm8E",
        "outputId": "4527c264-568a-43e1-b7e5-7d77315431db",
        "colab": {
          "base_uri": "https://localhost:8080/",
          "height": 108
        }
      },
      "source": [
        "df['Age'].fillna(df.Age.median(),inplace=True)\n",
        "df.isnull().sum()"
      ],
      "execution_count": null,
      "outputs": [
        {
          "output_type": "execute_result",
          "data": {
            "text/plain": [
              "Survived    0\n",
              "Pclass      0\n",
              "Age         0\n",
              "Fare        0\n",
              "dtype: int64"
            ]
          },
          "metadata": {
            "tags": []
          },
          "execution_count": 4
        }
      ]
    },
    {
      "cell_type": "code",
      "metadata": {
        "id": "dA3OKHCPLPDR"
      },
      "source": [
        "# standardization: We use Standardscaler from sklearn library\n",
        "from sklearn.preprocessing import StandardScaler"
      ],
      "execution_count": null,
      "outputs": []
    },
    {
      "cell_type": "code",
      "metadata": {
        "id": "P8Toh5p8LmRA",
        "outputId": "c3285ebb-40ae-41fc-c049-94a5497a075e",
        "colab": {
          "base_uri": "https://localhost:8080/",
          "height": 145
        }
      },
      "source": [
        "scaler=StandardScaler()\n",
        "# fit_transform comes with the preprocessing library\n",
        "df_scaled=scaler.fit_transform(df)\n",
        "df_scaled"
      ],
      "execution_count": null,
      "outputs": [
        {
          "output_type": "execute_result",
          "data": {
            "text/plain": [
              "array([[-0.78927234,  0.82737724, -0.56573646, -0.50244517],\n",
              "       [ 1.2669898 , -1.56610693,  0.66386103,  0.78684529],\n",
              "       [ 1.2669898 ,  0.82737724, -0.25833709, -0.48885426],\n",
              "       ...,\n",
              "       [-0.78927234,  0.82737724, -0.1046374 , -0.17626324],\n",
              "       [ 1.2669898 , -1.56610693, -0.25833709, -0.04438104],\n",
              "       [-0.78927234,  0.82737724,  0.20276197, -0.49237783]])"
            ]
          },
          "metadata": {
            "tags": []
          },
          "execution_count": 8
        }
      ]
    },
    {
      "cell_type": "code",
      "metadata": {
        "id": "K4cYVGGmMyG8",
        "outputId": "151222ce-0263-4006-ab79-bba1f6214206",
        "colab": {
          "base_uri": "https://localhost:8080/",
          "height": 407
        }
      },
      "source": [
        "pd.DataFrame(df_scaled)"
      ],
      "execution_count": null,
      "outputs": [
        {
          "output_type": "execute_result",
          "data": {
            "text/html": [
              "<div>\n",
              "<style scoped>\n",
              "    .dataframe tbody tr th:only-of-type {\n",
              "        vertical-align: middle;\n",
              "    }\n",
              "\n",
              "    .dataframe tbody tr th {\n",
              "        vertical-align: top;\n",
              "    }\n",
              "\n",
              "    .dataframe thead th {\n",
              "        text-align: right;\n",
              "    }\n",
              "</style>\n",
              "<table border=\"1\" class=\"dataframe\">\n",
              "  <thead>\n",
              "    <tr style=\"text-align: right;\">\n",
              "      <th></th>\n",
              "      <th>0</th>\n",
              "      <th>1</th>\n",
              "      <th>2</th>\n",
              "      <th>3</th>\n",
              "    </tr>\n",
              "  </thead>\n",
              "  <tbody>\n",
              "    <tr>\n",
              "      <th>0</th>\n",
              "      <td>-0.789272</td>\n",
              "      <td>0.827377</td>\n",
              "      <td>-0.565736</td>\n",
              "      <td>-0.502445</td>\n",
              "    </tr>\n",
              "    <tr>\n",
              "      <th>1</th>\n",
              "      <td>1.266990</td>\n",
              "      <td>-1.566107</td>\n",
              "      <td>0.663861</td>\n",
              "      <td>0.786845</td>\n",
              "    </tr>\n",
              "    <tr>\n",
              "      <th>2</th>\n",
              "      <td>1.266990</td>\n",
              "      <td>0.827377</td>\n",
              "      <td>-0.258337</td>\n",
              "      <td>-0.488854</td>\n",
              "    </tr>\n",
              "    <tr>\n",
              "      <th>3</th>\n",
              "      <td>1.266990</td>\n",
              "      <td>-1.566107</td>\n",
              "      <td>0.433312</td>\n",
              "      <td>0.420730</td>\n",
              "    </tr>\n",
              "    <tr>\n",
              "      <th>4</th>\n",
              "      <td>-0.789272</td>\n",
              "      <td>0.827377</td>\n",
              "      <td>0.433312</td>\n",
              "      <td>-0.486337</td>\n",
              "    </tr>\n",
              "    <tr>\n",
              "      <th>...</th>\n",
              "      <td>...</td>\n",
              "      <td>...</td>\n",
              "      <td>...</td>\n",
              "      <td>...</td>\n",
              "    </tr>\n",
              "    <tr>\n",
              "      <th>886</th>\n",
              "      <td>-0.789272</td>\n",
              "      <td>-0.369365</td>\n",
              "      <td>-0.181487</td>\n",
              "      <td>-0.386671</td>\n",
              "    </tr>\n",
              "    <tr>\n",
              "      <th>887</th>\n",
              "      <td>1.266990</td>\n",
              "      <td>-1.566107</td>\n",
              "      <td>-0.796286</td>\n",
              "      <td>-0.044381</td>\n",
              "    </tr>\n",
              "    <tr>\n",
              "      <th>888</th>\n",
              "      <td>-0.789272</td>\n",
              "      <td>0.827377</td>\n",
              "      <td>-0.104637</td>\n",
              "      <td>-0.176263</td>\n",
              "    </tr>\n",
              "    <tr>\n",
              "      <th>889</th>\n",
              "      <td>1.266990</td>\n",
              "      <td>-1.566107</td>\n",
              "      <td>-0.258337</td>\n",
              "      <td>-0.044381</td>\n",
              "    </tr>\n",
              "    <tr>\n",
              "      <th>890</th>\n",
              "      <td>-0.789272</td>\n",
              "      <td>0.827377</td>\n",
              "      <td>0.202762</td>\n",
              "      <td>-0.492378</td>\n",
              "    </tr>\n",
              "  </tbody>\n",
              "</table>\n",
              "<p>891 rows × 4 columns</p>\n",
              "</div>"
            ],
            "text/plain": [
              "            0         1         2         3\n",
              "0   -0.789272  0.827377 -0.565736 -0.502445\n",
              "1    1.266990 -1.566107  0.663861  0.786845\n",
              "2    1.266990  0.827377 -0.258337 -0.488854\n",
              "3    1.266990 -1.566107  0.433312  0.420730\n",
              "4   -0.789272  0.827377  0.433312 -0.486337\n",
              "..        ...       ...       ...       ...\n",
              "886 -0.789272 -0.369365 -0.181487 -0.386671\n",
              "887  1.266990 -1.566107 -0.796286 -0.044381\n",
              "888 -0.789272  0.827377 -0.104637 -0.176263\n",
              "889  1.266990 -1.566107 -0.258337 -0.044381\n",
              "890 -0.789272  0.827377  0.202762 -0.492378\n",
              "\n",
              "[891 rows x 4 columns]"
            ]
          },
          "metadata": {
            "tags": []
          },
          "execution_count": 9
        }
      ]
    },
    {
      "cell_type": "code",
      "metadata": {
        "id": "j9Z6Y1AAV4Mz"
      },
      "source": [
        "import matplotlib.pyplot as plt\n",
        "%matplotlib inline"
      ],
      "execution_count": null,
      "outputs": []
    },
    {
      "cell_type": "code",
      "metadata": {
        "id": "WfIkixQCV-Oj",
        "outputId": "4095f70d-c877-4a3a-bed0-847bc39f03a1",
        "colab": {
          "base_uri": "https://localhost:8080/",
          "height": 410
        }
      },
      "source": [
        "plt.hist(df_scaled[:,1],bins=20) # Pclass"
      ],
      "execution_count": null,
      "outputs": [
        {
          "output_type": "execute_result",
          "data": {
            "text/plain": [
              "(array([216.,   0.,   0.,   0.,   0.,   0.,   0.,   0.,   0.,   0., 184.,\n",
              "          0.,   0.,   0.,   0.,   0.,   0.,   0.,   0., 491.]),\n",
              " array([-1.56610693, -1.44643272, -1.32675851, -1.2070843 , -1.08741009,\n",
              "        -0.96773588, -0.84806167, -0.72838747, -0.60871326, -0.48903905,\n",
              "        -0.36936484, -0.24969063, -0.13001642, -0.01034222,  0.10933199,\n",
              "         0.2290062 ,  0.34868041,  0.46835462,  0.58802883,  0.70770304,\n",
              "         0.82737724]),\n",
              " <a list of 20 Patch objects>)"
            ]
          },
          "metadata": {
            "tags": []
          },
          "execution_count": 18
        },
        {
          "output_type": "display_data",
          "data": {
            "image/png": "[encoded data removed]",
            "text/plain": [
              "<Figure size 432x288 with 1 Axes>"
            ]
          },
          "metadata": {
            "tags": [],
            "needs_background": "light"
          }
        }
      ]
    },
    {
      "cell_type": "code",
      "metadata": {
        "id": "d_2eE7ptaYEL",
        "outputId": "38afdca8-6bf2-445d-c8eb-3f028747a5a5",
        "colab": {
          "base_uri": "https://localhost:8080/",
          "height": 410
        }
      },
      "source": [
        "plt.hist(df_scaled[:,2],bins=20) # age"
      ],
      "execution_count": null,
      "outputs": [
        {
          "output_type": "execute_result",
          "data": {
            "text/plain": [
              "(array([ 40.,  14.,  15.,  31.,  79.,  98., 262.,  84.,  73.,  45.,  35.,\n",
              "         35.,  29.,  16.,  13.,  11.,   4.,   5.,   1.,   1.]),\n",
              " array([-2.22415608, -1.91837055, -1.61258503, -1.3067995 , -1.00101397,\n",
              "        -0.69522845, -0.38944292, -0.08365739,  0.22212813,  0.52791366,\n",
              "         0.83369919,  1.13948471,  1.44527024,  1.75105577,  2.05684129,\n",
              "         2.36262682,  2.66841235,  2.97419787,  3.2799834 ,  3.58576892,\n",
              "         3.89155445]),\n",
              " <a list of 20 Patch objects>)"
            ]
          },
          "metadata": {
            "tags": []
          },
          "execution_count": 20
        },
        {
          "output_type": "display_data",
          "data": {
            "image/png": "[encoded data removed]",
            "text/plain": [
              "<Figure size 432x288 with 1 Axes>"
            ]
          },
          "metadata": {
            "tags": [],
            "needs_background": "light"
          }
        }
      ]
    },
    {
      "cell_type": "code",
      "metadata": {
        "id": "X_F35ZqdbAse",
        "outputId": "e130ee8a-9006-44cb-b195-67835eebeb9b",
        "colab": {
          "base_uri": "https://localhost:8080/",
          "height": 410
        }
      },
      "source": [
        "plt.hist(df_scaled[:,3],bins=20) # fare # right skewed"
      ],
      "execution_count": null,
      "outputs": [
        {
          "output_type": "execute_result",
          "data": {
            "text/plain": [
              "(array([562., 170.,  67.,  39.,  15.,  16.,   2.,   0.,   9.,   2.,   6.,\n",
              "          0.,   0.,   0.,   0.,   0.,   0.,   0.,   0.,   3.]),\n",
              " array([-0.64842165, -0.13264224,  0.38313716,  0.89891657,  1.41469598,\n",
              "         1.93047539,  2.4462548 ,  2.96203421,  3.47781362,  3.99359303,\n",
              "         4.50937244,  5.02515184,  5.54093125,  6.05671066,  6.57249007,\n",
              "         7.08826948,  7.60404889,  8.1198283 ,  8.63560771,  9.15138712,\n",
              "         9.66716653]),\n",
              " <a list of 20 Patch objects>)"
            ]
          },
          "metadata": {
            "tags": []
          },
          "execution_count": 21
        },
        {
          "output_type": "display_data",
          "data": {
            "image/png": "[encoded data removed]",
            "text/plain": [
              "<Figure size 432x288 with 1 Axes>"
            ]
          },
          "metadata": {
            "tags": [],
            "needs_background": "light"
          }
        }
      ]
    },
    {
      "cell_type": "markdown",
      "metadata": {
        "id": "Sj0SbfNdct72"
      },
      "source": [
        "Normalization(MinMaxScaler) - It scales the values between 0 and 1 . \n",
        "   x_scaled=(x-x_min)/(x_max-x_min) (mostly used in CNN)"
      ]
    },
    {
      "cell_type": "code",
      "metadata": {
        "id": "s5epmAXKeHp3",
        "outputId": "802dcd78-752a-4158-b1dc-c02a6cbc7b94",
        "colab": {
          "base_uri": "https://localhost:8080/",
          "height": 198
        }
      },
      "source": [
        "import pandas as pd\n",
        "df=pd.read_csv(\"/content/titanic.csv.txt\",usecols=['Pclass','Age','Fare','Survived'])\n",
        "df.head()"
      ],
      "execution_count": null,
      "outputs": [
        {
          "output_type": "execute_result",
          "data": {
            "text/html": [
              "<div>\n",
              "<style scoped>\n",
              "    .dataframe tbody tr th:only-of-type {\n",
              "        vertical-align: middle;\n",
              "    }\n",
              "\n",
              "    .dataframe tbody tr th {\n",
              "        vertical-align: top;\n",
              "    }\n",
              "\n",
              "    .dataframe thead th {\n",
              "        text-align: right;\n",
              "    }\n",
              "</style>\n",
              "<table border=\"1\" class=\"dataframe\">\n",
              "  <thead>\n",
              "    <tr style=\"text-align: right;\">\n",
              "      <th></th>\n",
              "      <th>Survived</th>\n",
              "      <th>Pclass</th>\n",
              "      <th>Age</th>\n",
              "      <th>Fare</th>\n",
              "    </tr>\n",
              "  </thead>\n",
              "  <tbody>\n",
              "    <tr>\n",
              "      <th>0</th>\n",
              "      <td>0</td>\n",
              "      <td>3</td>\n",
              "      <td>22.0</td>\n",
              "      <td>7.2500</td>\n",
              "    </tr>\n",
              "    <tr>\n",
              "      <th>1</th>\n",
              "      <td>1</td>\n",
              "      <td>1</td>\n",
              "      <td>38.0</td>\n",
              "      <td>71.2833</td>\n",
              "    </tr>\n",
              "    <tr>\n",
              "      <th>2</th>\n",
              "      <td>1</td>\n",
              "      <td>3</td>\n",
              "      <td>26.0</td>\n",
              "      <td>7.9250</td>\n",
              "    </tr>\n",
              "    <tr>\n",
              "      <th>3</th>\n",
              "      <td>1</td>\n",
              "      <td>1</td>\n",
              "      <td>35.0</td>\n",
              "      <td>53.1000</td>\n",
              "    </tr>\n",
              "    <tr>\n",
              "      <th>4</th>\n",
              "      <td>0</td>\n",
              "      <td>3</td>\n",
              "      <td>35.0</td>\n",
              "      <td>8.0500</td>\n",
              "    </tr>\n",
              "  </tbody>\n",
              "</table>\n",
              "</div>"
            ],
            "text/plain": [
              "   Survived  Pclass   Age     Fare\n",
              "0         0       3  22.0   7.2500\n",
              "1         1       1  38.0  71.2833\n",
              "2         1       3  26.0   7.9250\n",
              "3         1       1  35.0  53.1000\n",
              "4         0       3  35.0   8.0500"
            ]
          },
          "metadata": {
            "tags": []
          },
          "execution_count": 25
        }
      ]
    },
    {
      "cell_type": "code",
      "metadata": {
        "id": "hqLHLM8TeNkG",
        "outputId": "beae2592-4ab5-4e42-9122-f5571b1bfe1e",
        "colab": {
          "base_uri": "https://localhost:8080/",
          "height": 108
        }
      },
      "source": [
        "df['Age'].fillna(df.Age.median(),inplace=True)\n",
        "df.isnull().sum()"
      ],
      "execution_count": null,
      "outputs": [
        {
          "output_type": "execute_result",
          "data": {
            "text/plain": [
              "Survived    0\n",
              "Pclass      0\n",
              "Age         0\n",
              "Fare        0\n",
              "dtype: int64"
            ]
          },
          "metadata": {
            "tags": []
          },
          "execution_count": 26
        }
      ]
    },
    {
      "cell_type": "code",
      "metadata": {
        "id": "tvqVScDIbt3G",
        "outputId": "353fea4d-3b15-4945-b743-2aa788b62e38",
        "colab": {
          "base_uri": "https://localhost:8080/",
          "height": 145
        }
      },
      "source": [
        "from sklearn.preprocessing import MinMaxScaler\n",
        "scaler=MinMaxScaler()\n",
        "df_scaler=scaler.fit_transform(df)\n",
        "df_scaler"
      ],
      "execution_count": null,
      "outputs": [
        {
          "output_type": "execute_result",
          "data": {
            "text/plain": [
              "array([[0.        , 1.        , 0.27117366, 0.01415106],\n",
              "       [1.        , 0.        , 0.4722292 , 0.13913574],\n",
              "       [1.        , 1.        , 0.32143755, 0.01546857],\n",
              "       ...,\n",
              "       [0.        , 1.        , 0.34656949, 0.04577135],\n",
              "       [1.        , 0.        , 0.32143755, 0.0585561 ],\n",
              "       [0.        , 1.        , 0.39683338, 0.01512699]])"
            ]
          },
          "metadata": {
            "tags": []
          },
          "execution_count": 28
        }
      ]
    },
    {
      "cell_type": "code",
      "metadata": {
        "id": "a3XY-wa2eTEU",
        "outputId": "0bdc979a-a27f-43b2-93a7-ee3d7cbd51bd",
        "colab": {
          "base_uri": "https://localhost:8080/",
          "height": 407
        }
      },
      "source": [
        "a=pd.DataFrame(df_scaler,columns=df.columns)\n",
        "a"
      ],
      "execution_count": null,
      "outputs": [
        {
          "output_type": "execute_result",
          "data": {
            "text/html": [
              "<div>\n",
              "<style scoped>\n",
              "    .dataframe tbody tr th:only-of-type {\n",
              "        vertical-align: middle;\n",
              "    }\n",
              "\n",
              "    .dataframe tbody tr th {\n",
              "        vertical-align: top;\n",
              "    }\n",
              "\n",
              "    .dataframe thead th {\n",
              "        text-align: right;\n",
              "    }\n",
              "</style>\n",
              "<table border=\"1\" class=\"dataframe\">\n",
              "  <thead>\n",
              "    <tr style=\"text-align: right;\">\n",
              "      <th></th>\n",
              "      <th>Survived</th>\n",
              "      <th>Pclass</th>\n",
              "      <th>Age</th>\n",
              "      <th>Fare</th>\n",
              "    </tr>\n",
              "  </thead>\n",
              "  <tbody>\n",
              "    <tr>\n",
              "      <th>0</th>\n",
              "      <td>0.0</td>\n",
              "      <td>1.0</td>\n",
              "      <td>0.271174</td>\n",
              "      <td>0.014151</td>\n",
              "    </tr>\n",
              "    <tr>\n",
              "      <th>1</th>\n",
              "      <td>1.0</td>\n",
              "      <td>0.0</td>\n",
              "      <td>0.472229</td>\n",
              "      <td>0.139136</td>\n",
              "    </tr>\n",
              "    <tr>\n",
              "      <th>2</th>\n",
              "      <td>1.0</td>\n",
              "      <td>1.0</td>\n",
              "      <td>0.321438</td>\n",
              "      <td>0.015469</td>\n",
              "    </tr>\n",
              "    <tr>\n",
              "      <th>3</th>\n",
              "      <td>1.0</td>\n",
              "      <td>0.0</td>\n",
              "      <td>0.434531</td>\n",
              "      <td>0.103644</td>\n",
              "    </tr>\n",
              "    <tr>\n",
              "      <th>4</th>\n",
              "      <td>0.0</td>\n",
              "      <td>1.0</td>\n",
              "      <td>0.434531</td>\n",
              "      <td>0.015713</td>\n",
              "    </tr>\n",
              "    <tr>\n",
              "      <th>...</th>\n",
              "      <td>...</td>\n",
              "      <td>...</td>\n",
              "      <td>...</td>\n",
              "      <td>...</td>\n",
              "    </tr>\n",
              "    <tr>\n",
              "      <th>886</th>\n",
              "      <td>0.0</td>\n",
              "      <td>0.5</td>\n",
              "      <td>0.334004</td>\n",
              "      <td>0.025374</td>\n",
              "    </tr>\n",
              "    <tr>\n",
              "      <th>887</th>\n",
              "      <td>1.0</td>\n",
              "      <td>0.0</td>\n",
              "      <td>0.233476</td>\n",
              "      <td>0.058556</td>\n",
              "    </tr>\n",
              "    <tr>\n",
              "      <th>888</th>\n",
              "      <td>0.0</td>\n",
              "      <td>1.0</td>\n",
              "      <td>0.346569</td>\n",
              "      <td>0.045771</td>\n",
              "    </tr>\n",
              "    <tr>\n",
              "      <th>889</th>\n",
              "      <td>1.0</td>\n",
              "      <td>0.0</td>\n",
              "      <td>0.321438</td>\n",
              "      <td>0.058556</td>\n",
              "    </tr>\n",
              "    <tr>\n",
              "      <th>890</th>\n",
              "      <td>0.0</td>\n",
              "      <td>1.0</td>\n",
              "      <td>0.396833</td>\n",
              "      <td>0.015127</td>\n",
              "    </tr>\n",
              "  </tbody>\n",
              "</table>\n",
              "<p>891 rows × 4 columns</p>\n",
              "</div>"
            ],
            "text/plain": [
              "     Survived  Pclass       Age      Fare\n",
              "0         0.0     1.0  0.271174  0.014151\n",
              "1         1.0     0.0  0.472229  0.139136\n",
              "2         1.0     1.0  0.321438  0.015469\n",
              "3         1.0     0.0  0.434531  0.103644\n",
              "4         0.0     1.0  0.434531  0.015713\n",
              "..        ...     ...       ...       ...\n",
              "886       0.0     0.5  0.334004  0.025374\n",
              "887       1.0     0.0  0.233476  0.058556\n",
              "888       0.0     1.0  0.346569  0.045771\n",
              "889       1.0     0.0  0.321438  0.058556\n",
              "890       0.0     1.0  0.396833  0.015127\n",
              "\n",
              "[891 rows x 4 columns]"
            ]
          },
          "metadata": {
            "tags": []
          },
          "execution_count": 42
        }
      ]
    },
    {
      "cell_type": "code",
      "metadata": {
        "id": "DsewBmb6f_zV",
        "outputId": "dccb202c-a12f-4787-e8fd-b20db6836eb2",
        "colab": {
          "base_uri": "https://localhost:8080/",
          "height": 410
        }
      },
      "source": [
        "plt.hist(df_scaled[:,1],bins=20)"
      ],
      "execution_count": null,
      "outputs": [
        {
          "output_type": "execute_result",
          "data": {
            "text/plain": [
              "(array([216.,   0.,   0.,   0.,   0.,   0.,   0.,   0.,   0.,   0., 184.,\n",
              "          0.,   0.,   0.,   0.,   0.,   0.,   0.,   0., 491.]),\n",
              " array([-1.56610693, -1.44643272, -1.32675851, -1.2070843 , -1.08741009,\n",
              "        -0.96773588, -0.84806167, -0.72838747, -0.60871326, -0.48903905,\n",
              "        -0.36936484, -0.24969063, -0.13001642, -0.01034222,  0.10933199,\n",
              "         0.2290062 ,  0.34868041,  0.46835462,  0.58802883,  0.70770304,\n",
              "         0.82737724]),\n",
              " <a list of 20 Patch objects>)"
            ]
          },
          "metadata": {
            "tags": []
          },
          "execution_count": 34
        },
        {
          "output_type": "display_data",
          "data": {
            "image/png": "[encoded data removed]",
            "text/plain": [
              "<Figure size 432x288 with 1 Axes>"
            ]
          },
          "metadata": {
            "tags": [],
            "needs_background": "light"
          }
        }
      ]
    },
    {
      "cell_type": "code",
      "metadata": {
        "id": "lStQHu1WhArv",
        "outputId": "d458299e-2804-421a-c16e-e3898c6f2c6f",
        "colab": {
          "base_uri": "https://localhost:8080/",
          "height": 355
        }
      },
      "source": [
        "plt.hist(a['Age'],bins=20)"
      ],
      "execution_count": null,
      "outputs": [
        {
          "output_type": "execute_result",
          "data": {
            "text/plain": [
              "(array([ 40.,  14.,  15.,  31.,  79.,  98., 262.,  84.,  73.,  45.,  35.,\n",
              "         35.,  29.,  16.,  13.,  11.,   4.,   5.,   1.,   1.]),\n",
              " array([0.  , 0.05, 0.1 , 0.15, 0.2 , 0.25, 0.3 , 0.35, 0.4 , 0.45, 0.5 ,\n",
              "        0.55, 0.6 , 0.65, 0.7 , 0.75, 0.8 , 0.85, 0.9 , 0.95, 1.  ]),\n",
              " <a list of 20 Patch objects>)"
            ]
          },
          "metadata": {
            "tags": []
          },
          "execution_count": 43
        },
        {
          "output_type": "display_data",
          "data": {
            "image/png": "[encoded data removed]",
            "text/plain": [
              "<Figure size 432x288 with 1 Axes>"
            ]
          },
          "metadata": {
            "tags": [],
            "needs_background": "light"
          }
        }
      ]
    },
    {
      "cell_type": "code",
      "metadata": {
        "id": "MVEZpreOhGIS",
        "outputId": "76c95102-429c-4a86-eb00-f2f95b26730d",
        "colab": {
          "base_uri": "https://localhost:8080/",
          "height": 355
        }
      },
      "source": [
        "plt.hist(a['Fare'],bins=20)"
      ],
      "execution_count": null,
      "outputs": [
        {
          "output_type": "execute_result",
          "data": {
            "text/plain": [
              "(array([562., 170.,  67.,  39.,  15.,  16.,   2.,   0.,   9.,   2.,   6.,\n",
              "          0.,   0.,   0.,   0.,   0.,   0.,   0.,   0.,   3.]),\n",
              " array([0.  , 0.05, 0.1 , 0.15, 0.2 , 0.25, 0.3 , 0.35, 0.4 , 0.45, 0.5 ,\n",
              "        0.55, 0.6 , 0.65, 0.7 , 0.75, 0.8 , 0.85, 0.9 , 0.95, 1.  ]),\n",
              " <a list of 20 Patch objects>)"
            ]
          },
          "metadata": {
            "tags": []
          },
          "execution_count": 44
        },
        {
          "output_type": "display_data",
          "data": {
            "image/png": "[encoded data removed]",
            "text/plain": [
              "<Figure size 432x288 with 1 Axes>"
            ]
          },
          "metadata": {
            "tags": [],
            "needs_background": "light"
          }
        }
      ]
    },
    {
      "cell_type": "markdown",
      "metadata": {
        "id": "nzgP8F_biLK3"
      },
      "source": [
        "Robust Scaler- It is used to scale the feature to median and quantile.Scaling using median and quantiles consists of substracting the median to all the observations, and then dividing by the interquantile difference. The interquantile difference is the difference between the 75th and 25th quantile:\n",
        "(most important)\n",
        "\n",
        "IQR = 75th percentile - 25th percentile\n",
        "\n",
        "X_scaled = (X - X.median) / IQR\n",
        "\n",
        "0,1,2,3,4,5,6,7,8,9,10\n",
        "\n",
        "9-90 percentile---90% of all values in this group is less than 9 1-10 precentile---10% of all values in this group is less than 1 4-40%"
      ]
    },
    {
      "cell_type": "code",
      "metadata": {
        "id": "d32_fV_WkKeh",
        "outputId": "7baa22c8-5829-4252-9d70-3e95913e41a6",
        "colab": {
          "base_uri": "https://localhost:8080/",
          "height": 198
        }
      },
      "source": [
        "import pandas as pd\n",
        "df=pd.read_csv(\"/content/titanic.csv.txt\",usecols=['Pclass','Age','Fare','Survived'])\n",
        "df.head()"
      ],
      "execution_count": null,
      "outputs": [
        {
          "output_type": "execute_result",
          "data": {
            "text/html": [
              "<div>\n",
              "<style scoped>\n",
              "    .dataframe tbody tr th:only-of-type {\n",
              "        vertical-align: middle;\n",
              "    }\n",
              "\n",
              "    .dataframe tbody tr th {\n",
              "        vertical-align: top;\n",
              "    }\n",
              "\n",
              "    .dataframe thead th {\n",
              "        text-align: right;\n",
              "    }\n",
              "</style>\n",
              "<table border=\"1\" class=\"dataframe\">\n",
              "  <thead>\n",
              "    <tr style=\"text-align: right;\">\n",
              "      <th></th>\n",
              "      <th>Survived</th>\n",
              "      <th>Pclass</th>\n",
              "      <th>Age</th>\n",
              "      <th>Fare</th>\n",
              "    </tr>\n",
              "  </thead>\n",
              "  <tbody>\n",
              "    <tr>\n",
              "      <th>0</th>\n",
              "      <td>0</td>\n",
              "      <td>3</td>\n",
              "      <td>22.0</td>\n",
              "      <td>7.2500</td>\n",
              "    </tr>\n",
              "    <tr>\n",
              "      <th>1</th>\n",
              "      <td>1</td>\n",
              "      <td>1</td>\n",
              "      <td>38.0</td>\n",
              "      <td>71.2833</td>\n",
              "    </tr>\n",
              "    <tr>\n",
              "      <th>2</th>\n",
              "      <td>1</td>\n",
              "      <td>3</td>\n",
              "      <td>26.0</td>\n",
              "      <td>7.9250</td>\n",
              "    </tr>\n",
              "    <tr>\n",
              "      <th>3</th>\n",
              "      <td>1</td>\n",
              "      <td>1</td>\n",
              "      <td>35.0</td>\n",
              "      <td>53.1000</td>\n",
              "    </tr>\n",
              "    <tr>\n",
              "      <th>4</th>\n",
              "      <td>0</td>\n",
              "      <td>3</td>\n",
              "      <td>35.0</td>\n",
              "      <td>8.0500</td>\n",
              "    </tr>\n",
              "  </tbody>\n",
              "</table>\n",
              "</div>"
            ],
            "text/plain": [
              "   Survived  Pclass   Age     Fare\n",
              "0         0       3  22.0   7.2500\n",
              "1         1       1  38.0  71.2833\n",
              "2         1       3  26.0   7.9250\n",
              "3         1       1  35.0  53.1000\n",
              "4         0       3  35.0   8.0500"
            ]
          },
          "metadata": {
            "tags": []
          },
          "execution_count": 38
        }
      ]
    },
    {
      "cell_type": "code",
      "metadata": {
        "id": "ngSk58p1kO2f",
        "outputId": "d58e6eae-7053-4f55-a52a-a6403c13bf37",
        "colab": {
          "base_uri": "https://localhost:8080/",
          "height": 108
        }
      },
      "source": [
        "df['Age'].fillna(df.Age.median(),inplace=True)\n",
        "df.isnull().sum()"
      ],
      "execution_count": null,
      "outputs": [
        {
          "output_type": "execute_result",
          "data": {
            "text/plain": [
              "Survived    0\n",
              "Pclass      0\n",
              "Age         0\n",
              "Fare        0\n",
              "dtype: int64"
            ]
          },
          "metadata": {
            "tags": []
          },
          "execution_count": 39
        }
      ]
    },
    {
      "cell_type": "code",
      "metadata": {
        "id": "gF8KqdqUhx7J",
        "outputId": "55a0c822-e8c6-4582-ea0c-88437dc2f910",
        "colab": {
          "base_uri": "https://localhost:8080/",
          "height": 145
        }
      },
      "source": [
        "from sklearn.preprocessing import RobustScaler\n",
        "scaler=RobustScaler()\n",
        "df_robust=scaler.fit_transform(df)\n",
        "df_robust"
      ],
      "execution_count": null,
      "outputs": [
        {
          "output_type": "execute_result",
          "data": {
            "text/plain": [
              "array([[ 0.        ,  0.        , -0.46153846, -0.3120106 ],\n",
              "       [ 1.        , -2.        ,  0.76923077,  2.46124229],\n",
              "       [ 1.        ,  0.        , -0.15384615, -0.28277666],\n",
              "       ...,\n",
              "       [ 0.        ,  0.        ,  0.        ,  0.38960398],\n",
              "       [ 1.        , -2.        , -0.15384615,  0.67328148],\n",
              "       [ 0.        ,  0.        ,  0.30769231, -0.29035583]])"
            ]
          },
          "metadata": {
            "tags": []
          },
          "execution_count": 40
        }
      ]
    },
    {
      "cell_type": "code",
      "metadata": {
        "id": "3uWrj3ubkaSw",
        "outputId": "72b35b6f-de75-4047-ac66-246f87742662",
        "colab": {
          "base_uri": "https://localhost:8080/",
          "height": 407
        }
      },
      "source": [
        "a=pd.DataFrame(df_robust,columns=df.columns)\n",
        "a"
      ],
      "execution_count": null,
      "outputs": [
        {
          "output_type": "execute_result",
          "data": {
            "text/html": [
              "<div>\n",
              "<style scoped>\n",
              "    .dataframe tbody tr th:only-of-type {\n",
              "        vertical-align: middle;\n",
              "    }\n",
              "\n",
              "    .dataframe tbody tr th {\n",
              "        vertical-align: top;\n",
              "    }\n",
              "\n",
              "    .dataframe thead th {\n",
              "        text-align: right;\n",
              "    }\n",
              "</style>\n",
              "<table border=\"1\" class=\"dataframe\">\n",
              "  <thead>\n",
              "    <tr style=\"text-align: right;\">\n",
              "      <th></th>\n",
              "      <th>Survived</th>\n",
              "      <th>Pclass</th>\n",
              "      <th>Age</th>\n",
              "      <th>Fare</th>\n",
              "    </tr>\n",
              "  </thead>\n",
              "  <tbody>\n",
              "    <tr>\n",
              "      <th>0</th>\n",
              "      <td>0.0</td>\n",
              "      <td>0.0</td>\n",
              "      <td>-0.461538</td>\n",
              "      <td>-0.312011</td>\n",
              "    </tr>\n",
              "    <tr>\n",
              "      <th>1</th>\n",
              "      <td>1.0</td>\n",
              "      <td>-2.0</td>\n",
              "      <td>0.769231</td>\n",
              "      <td>2.461242</td>\n",
              "    </tr>\n",
              "    <tr>\n",
              "      <th>2</th>\n",
              "      <td>1.0</td>\n",
              "      <td>0.0</td>\n",
              "      <td>-0.153846</td>\n",
              "      <td>-0.282777</td>\n",
              "    </tr>\n",
              "    <tr>\n",
              "      <th>3</th>\n",
              "      <td>1.0</td>\n",
              "      <td>-2.0</td>\n",
              "      <td>0.538462</td>\n",
              "      <td>1.673732</td>\n",
              "    </tr>\n",
              "    <tr>\n",
              "      <th>4</th>\n",
              "      <td>0.0</td>\n",
              "      <td>0.0</td>\n",
              "      <td>0.538462</td>\n",
              "      <td>-0.277363</td>\n",
              "    </tr>\n",
              "    <tr>\n",
              "      <th>...</th>\n",
              "      <td>...</td>\n",
              "      <td>...</td>\n",
              "      <td>...</td>\n",
              "      <td>...</td>\n",
              "    </tr>\n",
              "    <tr>\n",
              "      <th>886</th>\n",
              "      <td>0.0</td>\n",
              "      <td>-1.0</td>\n",
              "      <td>-0.076923</td>\n",
              "      <td>-0.062981</td>\n",
              "    </tr>\n",
              "    <tr>\n",
              "      <th>887</th>\n",
              "      <td>1.0</td>\n",
              "      <td>-2.0</td>\n",
              "      <td>-0.692308</td>\n",
              "      <td>0.673281</td>\n",
              "    </tr>\n",
              "    <tr>\n",
              "      <th>888</th>\n",
              "      <td>0.0</td>\n",
              "      <td>0.0</td>\n",
              "      <td>0.000000</td>\n",
              "      <td>0.389604</td>\n",
              "    </tr>\n",
              "    <tr>\n",
              "      <th>889</th>\n",
              "      <td>1.0</td>\n",
              "      <td>-2.0</td>\n",
              "      <td>-0.153846</td>\n",
              "      <td>0.673281</td>\n",
              "    </tr>\n",
              "    <tr>\n",
              "      <th>890</th>\n",
              "      <td>0.0</td>\n",
              "      <td>0.0</td>\n",
              "      <td>0.307692</td>\n",
              "      <td>-0.290356</td>\n",
              "    </tr>\n",
              "  </tbody>\n",
              "</table>\n",
              "<p>891 rows × 4 columns</p>\n",
              "</div>"
            ],
            "text/plain": [
              "     Survived  Pclass       Age      Fare\n",
              "0         0.0     0.0 -0.461538 -0.312011\n",
              "1         1.0    -2.0  0.769231  2.461242\n",
              "2         1.0     0.0 -0.153846 -0.282777\n",
              "3         1.0    -2.0  0.538462  1.673732\n",
              "4         0.0     0.0  0.538462 -0.277363\n",
              "..        ...     ...       ...       ...\n",
              "886       0.0    -1.0 -0.076923 -0.062981\n",
              "887       1.0    -2.0 -0.692308  0.673281\n",
              "888       0.0     0.0  0.000000  0.389604\n",
              "889       1.0    -2.0 -0.153846  0.673281\n",
              "890       0.0     0.0  0.307692 -0.290356\n",
              "\n",
              "[891 rows x 4 columns]"
            ]
          },
          "metadata": {
            "tags": []
          },
          "execution_count": 46
        }
      ]
    },
    {
      "cell_type": "code",
      "metadata": {
        "id": "FZbrED8HkkVk",
        "outputId": "8f044f43-6ff5-4546-9f27-5d40fd2e2746",
        "colab": {
          "base_uri": "https://localhost:8080/",
          "height": 355
        }
      },
      "source": [
        "plt.hist(a['Pclass'],bins=20)"
      ],
      "execution_count": null,
      "outputs": [
        {
          "output_type": "execute_result",
          "data": {
            "text/plain": [
              "(array([216.,   0.,   0.,   0.,   0.,   0.,   0.,   0.,   0.,   0., 184.,\n",
              "          0.,   0.,   0.,   0.,   0.,   0.,   0.,   0., 491.]),\n",
              " array([-2. , -1.9, -1.8, -1.7, -1.6, -1.5, -1.4, -1.3, -1.2, -1.1, -1. ,\n",
              "        -0.9, -0.8, -0.7, -0.6, -0.5, -0.4, -0.3, -0.2, -0.1,  0. ]),\n",
              " <a list of 20 Patch objects>)"
            ]
          },
          "metadata": {
            "tags": []
          },
          "execution_count": 47
        },
        {
          "output_type": "display_data",
          "data": {
            "image/png": "[encoded data removed]",
            "text/plain": [
              "<Figure size 432x288 with 1 Axes>"
            ]
          },
          "metadata": {
            "tags": [],
            "needs_background": "light"
          }
        }
      ]
    },
    {
      "cell_type": "code",
      "metadata": {
        "id": "9Efrn-d-luRH",
        "outputId": "f53d6c15-7a6e-480f-a46b-fc87c2b70a30",
        "colab": {
          "base_uri": "https://localhost:8080/",
          "height": 410
        }
      },
      "source": [
        "plt.hist(a['Age'],bins=20)"
      ],
      "execution_count": null,
      "outputs": [
        {
          "output_type": "execute_result",
          "data": {
            "text/plain": [
              "(array([ 40.,  14.,  15.,  31.,  79.,  98., 262.,  84.,  73.,  45.,  35.,\n",
              "         35.,  29.,  16.,  13.,  11.,   4.,   5.,   1.,   1.]),\n",
              " array([-2.12153846, -1.81546154, -1.50938462, -1.20330769, -0.89723077,\n",
              "        -0.59115385, -0.28507692,  0.021     ,  0.32707692,  0.63315385,\n",
              "         0.93923077,  1.24530769,  1.55138462,  1.85746154,  2.16353846,\n",
              "         2.46961538,  2.77569231,  3.08176923,  3.38784615,  3.69392308,\n",
              "         4.        ]),\n",
              " <a list of 20 Patch objects>)"
            ]
          },
          "metadata": {
            "tags": []
          },
          "execution_count": 48
        },
        {
          "output_type": "display_data",
          "data": {
            "image/png": "[encoded data removed]",
            "text/plain": [
              "<Figure size 432x288 with 1 Axes>"
            ]
          },
          "metadata": {
            "tags": [],
            "needs_background": "light"
          }
        }
      ]
    },
    {
      "cell_type": "code",
      "metadata": {
        "id": "_67MPpNxlyCY",
        "outputId": "3ae3cae7-dc35-4773-a57e-00be89db9b4c",
        "colab": {
          "base_uri": "https://localhost:8080/",
          "height": 410
        }
      },
      "source": [
        "plt.hist(a['Fare'],bins=20)"
      ],
      "execution_count": null,
      "outputs": [
        {
          "output_type": "execute_result",
          "data": {
            "text/plain": [
              "(array([562., 170.,  67.,  39.,  15.,  16.,   2.,   0.,   9.,   2.,   6.,\n",
              "          0.,   0.,   0.,   0.,   0.,   0.,   0.,   0.,   3.]),\n",
              " array([-0.62600478,  0.48343237,  1.59286952,  2.70230667,  3.81174382,\n",
              "         4.92118096,  6.03061811,  7.14005526,  8.24949241,  9.35892956,\n",
              "        10.46836671, 11.57780386, 12.68724101, 13.79667816, 14.90611531,\n",
              "        16.01555246, 17.12498961, 18.23442675, 19.3438639 , 20.45330105,\n",
              "        21.5627382 ]),\n",
              " <a list of 20 Patch objects>)"
            ]
          },
          "metadata": {
            "tags": []
          },
          "execution_count": 49
        },
        {
          "output_type": "display_data",
          "data": {
            "image/png": "[encoded data removed]",
            "text/plain": [
              "<Figure size 432x288 with 1 Axes>"
            ]
          },
          "metadata": {
            "tags": [],
            "needs_background": "light"
          }
        }
      ]
    },
    {
      "cell_type": "markdown",
      "metadata": {
        "id": "jg6b4oGsmp4A"
      },
      "source": [
        "Gaussian Transformation - It is used to transform the data(not normally distributed) to normal distribution. \n",
        " *Logarithmic Transformation\n",
        " *Reciprocal Transformation \n",
        " *Square Root Transformation \n",
        " *Exponential Trnasformation \n",
        " *Box Cox Transformation"
      ]
    },
    {
      "cell_type": "code",
      "metadata": {
        "id": "3BMCS1YMoO1d",
        "outputId": "8fe83c80-b0ef-4787-e5f6-94610b1bee36",
        "colab": {
          "base_uri": "https://localhost:8080/",
          "height": 198
        }
      },
      "source": [
        "import pandas as pd\n",
        "df=pd.read_csv(\"/content/titanic.csv.txt\",usecols=['Age','Fare','Survived'])\n",
        "df.head()"
      ],
      "execution_count": null,
      "outputs": [
        {
          "output_type": "execute_result",
          "data": {
            "text/html": [
              "<div>\n",
              "<style scoped>\n",
              "    .dataframe tbody tr th:only-of-type {\n",
              "        vertical-align: middle;\n",
              "    }\n",
              "\n",
              "    .dataframe tbody tr th {\n",
              "        vertical-align: top;\n",
              "    }\n",
              "\n",
              "    .dataframe thead th {\n",
              "        text-align: right;\n",
              "    }\n",
              "</style>\n",
              "<table border=\"1\" class=\"dataframe\">\n",
              "  <thead>\n",
              "    <tr style=\"text-align: right;\">\n",
              "      <th></th>\n",
              "      <th>Survived</th>\n",
              "      <th>Age</th>\n",
              "      <th>Fare</th>\n",
              "    </tr>\n",
              "  </thead>\n",
              "  <tbody>\n",
              "    <tr>\n",
              "      <th>0</th>\n",
              "      <td>0</td>\n",
              "      <td>22.0</td>\n",
              "      <td>7.2500</td>\n",
              "    </tr>\n",
              "    <tr>\n",
              "      <th>1</th>\n",
              "      <td>1</td>\n",
              "      <td>38.0</td>\n",
              "      <td>71.2833</td>\n",
              "    </tr>\n",
              "    <tr>\n",
              "      <th>2</th>\n",
              "      <td>1</td>\n",
              "      <td>26.0</td>\n",
              "      <td>7.9250</td>\n",
              "    </tr>\n",
              "    <tr>\n",
              "      <th>3</th>\n",
              "      <td>1</td>\n",
              "      <td>35.0</td>\n",
              "      <td>53.1000</td>\n",
              "    </tr>\n",
              "    <tr>\n",
              "      <th>4</th>\n",
              "      <td>0</td>\n",
              "      <td>35.0</td>\n",
              "      <td>8.0500</td>\n",
              "    </tr>\n",
              "  </tbody>\n",
              "</table>\n",
              "</div>"
            ],
            "text/plain": [
              "   Survived   Age     Fare\n",
              "0         0  22.0   7.2500\n",
              "1         1  38.0  71.2833\n",
              "2         1  26.0   7.9250\n",
              "3         1  35.0  53.1000\n",
              "4         0  35.0   8.0500"
            ]
          },
          "metadata": {
            "tags": []
          },
          "execution_count": 1
        }
      ]
    },
    {
      "cell_type": "code",
      "metadata": {
        "id": "2lkSO4DtobAf",
        "outputId": "5fdf9768-0713-4bb1-fcad-9865efaff585",
        "colab": {
          "base_uri": "https://localhost:8080/",
          "height": 90
        }
      },
      "source": [
        "df['Age'].fillna(df.Age.median(),inplace=True)\n",
        "df.isnull().sum()"
      ],
      "execution_count": null,
      "outputs": [
        {
          "output_type": "execute_result",
          "data": {
            "text/plain": [
              "Survived    0\n",
              "Age         0\n",
              "Fare        0\n",
              "dtype: int64"
            ]
          },
          "metadata": {
            "tags": []
          },
          "execution_count": 2
        }
      ]
    },
    {
      "cell_type": "code",
      "metadata": {
        "id": "JuJrdkrWRsC0"
      },
      "source": [
        "import matplotlib.pyplot as plt\n",
        "import scipy.stats as stat\n",
        "import pylab"
      ],
      "execution_count": null,
      "outputs": []
    },
    {
      "cell_type": "code",
      "metadata": {
        "id": "b38Ip-99ob5W"
      },
      "source": [
        "# If you want to check whether feature is guassian or normal distributed we use Q-Q plot\n",
        "def plot_data(df,feature):\n",
        "  plt.figure(figsize=(10,6))\n",
        "  plt.subplot(1,2,1)\n",
        "  plt.hist(df[feature])\n",
        "  plt.subplot(1,2,2)\n",
        "  stat.probplot(df[feature],dist='norm',plot=pylab,)\n",
        "  plt.show # in the right diagram if all the points fall under the line ,we can say that it is normally distributed. Here most of the points fall under the line. so we have to make some transformations to make it normally distributed.  "
      ],
      "execution_count": null,
      "outputs": []
    },
    {
      "cell_type": "code",
      "metadata": {
        "id": "0kV5knEFShN2",
        "outputId": "89bf28c6-099a-4d64-d40b-9467862b3324",
        "colab": {
          "base_uri": "https://localhost:8080/",
          "height": 404
        }
      },
      "source": [
        "plot_data(df,'Age') "
      ],
      "execution_count": null,
      "outputs": [
        {
          "output_type": "display_data",
          "data": {
            "image/png": "[encoded data removed]",
            "text/plain": [
              "<Figure size 720x432 with 2 Axes>"
            ]
          },
          "metadata": {
            "tags": [],
            "needs_background": "light"
          }
        }
      ]
    },
    {
      "cell_type": "markdown",
      "metadata": {
        "id": "GZPsdj3PUzcV"
      },
      "source": [
        "Logrithmic Transformation- works well when the data is left skewed or right skewed."
      ]
    },
    {
      "cell_type": "code",
      "metadata": {
        "id": "9-zS5xjeXWHf",
        "outputId": "94f86771-1b07-464a-c62c-bfc00ddd53a0",
        "colab": {
          "base_uri": "https://localhost:8080/",
          "height": 404
        }
      },
      "source": [
        "import numpy as np\n",
        "df['Age_log']=np.log(df['Age'])\n",
        "plot_data(df,'Age_log') # this is not suitable since most of the points does not fall in the line."
      ],
      "execution_count": null,
      "outputs": [
        {
          "output_type": "display_data",
          "data": {
            "image/png": "[encoded data removed]",
            "text/plain": [
              "<Figure size 720x432 with 2 Axes>"
            ]
          },
          "metadata": {
            "tags": [],
            "needs_background": "light"
          }
        }
      ]
    },
    {
      "cell_type": "markdown",
      "metadata": {
        "id": "IGrbxwzyaqba"
      },
      "source": [
        "Reciprocal Transformation"
      ]
    },
    {
      "cell_type": "code",
      "metadata": {
        "id": "eQfbiiXyatrO",
        "outputId": "5b1ba106-2cde-43e1-8326-80afe4eef90b",
        "colab": {
          "base_uri": "https://localhost:8080/",
          "height": 404
        }
      },
      "source": [
        "df['Age_r']=1/df.Age\n",
        "plot_data(df,'Age_r') # this is not suitable"
      ],
      "execution_count": null,
      "outputs": [
        {
          "output_type": "display_data",
          "data": {
            "image/png": "[encoded data removed]",
            "text/plain": [
              "<Figure size 720x432 with 2 Axes>"
            ]
          },
          "metadata": {
            "tags": [],
            "needs_background": "light"
          }
        }
      ]
    },
    {
      "cell_type": "markdown",
      "metadata": {
        "id": "Hq4B1BntbGWP"
      },
      "source": [
        "Square root Transformtion"
      ]
    },
    {
      "cell_type": "code",
      "metadata": {
        "id": "9NYAv-7bbJua",
        "outputId": "533301a8-382a-4063-bdc3-3761d8ade965",
        "colab": {
          "base_uri": "https://localhost:8080/",
          "height": 404
        }
      },
      "source": [
        "df['Age_s']=df['Age']**(1/2)\n",
        "plot_data(df,'Age_s')"
      ],
      "execution_count": null,
      "outputs": [
        {
          "output_type": "display_data",
          "data": {
            "image/png": "[encoded data removed]",
            "text/plain": [
              "<Figure size 720x432 with 2 Axes>"
            ]
          },
          "metadata": {
            "tags": [],
            "needs_background": "light"
          }
        }
      ]
    },
    {
      "cell_type": "markdown",
      "metadata": {
        "id": "hduPu_b4zBtf"
      },
      "source": [
        "Exponential Tansformation"
      ]
    },
    {
      "cell_type": "code",
      "metadata": {
        "id": "FxzWy9uoy_wT",
        "outputId": "d60ea5a3-097a-477b-eb24-426765405b6e",
        "colab": {
          "base_uri": "https://localhost:8080/",
          "height": 404
        }
      },
      "source": [
        "df['Age_e']=df.Age**(1/1.2)\n",
        "plot_data(df,'Age_e')"
      ],
      "execution_count": null,
      "outputs": [
        {
          "output_type": "display_data",
          "data": {
            "image/png": "[encoded data removed]",
            "text/plain": [
              "<Figure size 720x432 with 2 Axes>"
            ]
          },
          "metadata": {
            "tags": [],
            "needs_background": "light"
          }
        }
      ]
    },
    {
      "cell_type": "markdown",
      "metadata": {
        "id": "yGBHrkSoz2xE"
      },
      "source": [
        "Box Cox Tansformation\n",
        "\n",
        "\n",
        "The Box-Cox transformation is defined as:\n",
        "T(Y)=(Y exp(λ)−1)/λ\n",
        "\n",
        "where Y is the response variable and λ is the transformation parameter. λ varies from -5 to 5. In the transformation, all values of λ are considered and the optimal value for a given variable is selected."
      ]
    },
    {
      "cell_type": "code",
      "metadata": {
        "id": "yfDwsM3Az6rW",
        "outputId": "d5b8f2f4-e39c-4ccb-bdb0-1f4878535e43",
        "colab": {
          "base_uri": "https://localhost:8080/",
          "height": 404
        }
      },
      "source": [
        "df['Age_b'],parameters=stat.boxcox(df['Age'])\n",
        "plot_data(df,'Age_b')"
      ],
      "execution_count": null,
      "outputs": [
        {
          "output_type": "display_data",
          "data": {
            "image/png": "[encoded data removed]",
            "text/plain": [
              "<Figure size 720x432 with 2 Axes>"
            ]
          },
          "metadata": {
            "tags": [],
            "needs_background": "light"
          }
        }
      ]
    }
  ]
}