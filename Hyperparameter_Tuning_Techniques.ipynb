{
  "nbformat": 4,
  "nbformat_minor": 0,
  "metadata": {
    "colab": {
      "name": "Hyperparameter_Tuning_Techniques.ipynb",
      "provenance": [],
      "collapsed_sections": [],
      "authorship_tag": "ABX9TyOp6F+XAe71rPGngQkme7QX",
      "include_colab_link": true
    },
    "kernelspec": {
      "name": "python3",
      "display_name": "Python 3"
    },
    "widgets": {
      "application/vnd.jupyter.widget-state+json": {
        "6904ba0012f141ef9635ca0493d7a4cd": {
          "model_module": "@jupyter-widgets/controls",
          "model_name": "HBoxModel",
          "state": {
            "_view_name": "HBoxView",
            "_dom_classes": [],
            "_model_name": "HBoxModel",
            "_view_module": "@jupyter-widgets/controls",
            "_model_module_version": "1.5.0",
            "_view_count": null,
            "_view_module_version": "1.5.0",
            "box_style": "",
            "layout": "IPY_MODEL_b2918c01435b4eaba3fc348810687365",
            "_model_module": "@jupyter-widgets/controls",
            "children": [
              "IPY_MODEL_27435970d2534fd6a289399c88615690",
              "IPY_MODEL_8a1d949e71814199ad179a2f5d1d5b1f"
            ]
          }
        },
        "b2918c01435b4eaba3fc348810687365": {
          "model_module": "@jupyter-widgets/base",
          "model_name": "LayoutModel",
          "state": {
            "_view_name": "LayoutView",
            "grid_template_rows": null,
            "right": null,
            "justify_content": null,
            "_view_module": "@jupyter-widgets/base",
            "overflow": null,
            "_model_module_version": "1.2.0",
            "_view_count": null,
            "flex_flow": null,
            "width": null,
            "min_width": null,
            "border": null,
            "align_items": null,
            "bottom": null,
            "_model_module": "@jupyter-widgets/base",
            "top": null,
            "grid_column": null,
            "overflow_y": null,
            "overflow_x": null,
            "grid_auto_flow": null,
            "grid_area": null,
            "grid_template_columns": null,
            "flex": null,
            "_model_name": "LayoutModel",
            "justify_items": null,
            "grid_row": null,
            "max_height": null,
            "align_content": null,
            "visibility": null,
            "align_self": null,
            "height": null,
            "min_height": null,
            "padding": null,
            "grid_auto_rows": null,
            "grid_gap": null,
            "max_width": null,
            "order": null,
            "_view_module_version": "1.2.0",
            "grid_template_areas": null,
            "object_position": null,
            "object_fit": null,
            "grid_auto_columns": null,
            "margin": null,
            "display": null,
            "left": null
          }
        },
        "27435970d2534fd6a289399c88615690": {
          "model_module": "@jupyter-widgets/controls",
          "model_name": "FloatProgressModel",
          "state": {
            "_view_name": "ProgressView",
            "style": "IPY_MODEL_4c16babc76be41a1847c22269fcb593c",
            "_dom_classes": [],
            "description": "Optimization Progress: 100%",
            "_model_name": "FloatProgressModel",
            "bar_style": "",
            "max": 84,
            "_view_module": "@jupyter-widgets/controls",
            "_model_module_version": "1.5.0",
            "value": 84,
            "_view_count": null,
            "_view_module_version": "1.5.0",
            "orientation": "horizontal",
            "min": 0,
            "description_tooltip": null,
            "_model_module": "@jupyter-widgets/controls",
            "layout": "IPY_MODEL_7d886039199d4a88b6138ba5fc1d6907"
          }
        },
        "8a1d949e71814199ad179a2f5d1d5b1f": {
          "model_module": "@jupyter-widgets/controls",
          "model_name": "HTMLModel",
          "state": {
            "_view_name": "HTMLView",
            "style": "IPY_MODEL_82183b7f46dc420294a43b43b2480523",
            "_dom_classes": [],
            "description": "",
            "_model_name": "HTMLModel",
            "placeholder": "​",
            "_view_module": "@jupyter-widgets/controls",
            "_model_module_version": "1.5.0",
            "value": " 84/84 [15:30&lt;00:00,  7.86s/pipeline]",
            "_view_count": null,
            "_view_module_version": "1.5.0",
            "description_tooltip": null,
            "_model_module": "@jupyter-widgets/controls",
            "layout": "IPY_MODEL_b1291845b2ab46f192727b223834fda6"
          }
        },
        "4c16babc76be41a1847c22269fcb593c": {
          "model_module": "@jupyter-widgets/controls",
          "model_name": "ProgressStyleModel",
          "state": {
            "_view_name": "StyleView",
            "_model_name": "ProgressStyleModel",
            "description_width": "initial",
            "_view_module": "@jupyter-widgets/base",
            "_model_module_version": "1.5.0",
            "_view_count": null,
            "_view_module_version": "1.2.0",
            "bar_color": null,
            "_model_module": "@jupyter-widgets/controls"
          }
        },
        "7d886039199d4a88b6138ba5fc1d6907": {
          "model_module": "@jupyter-widgets/base",
          "model_name": "LayoutModel",
          "state": {
            "_view_name": "LayoutView",
            "grid_template_rows": null,
            "right": null,
            "justify_content": null,
            "_view_module": "@jupyter-widgets/base",
            "overflow": null,
            "_model_module_version": "1.2.0",
            "_view_count": null,
            "flex_flow": null,
            "width": null,
            "min_width": null,
            "border": null,
            "align_items": null,
            "bottom": null,
            "_model_module": "@jupyter-widgets/base",
            "top": null,
            "grid_column": null,
            "overflow_y": null,
            "overflow_x": null,
            "grid_auto_flow": null,
            "grid_area": null,
            "grid_template_columns": null,
            "flex": null,
            "_model_name": "LayoutModel",
            "justify_items": null,
            "grid_row": null,
            "max_height": null,
            "align_content": null,
            "visibility": null,
            "align_self": null,
            "height": null,
            "min_height": null,
            "padding": null,
            "grid_auto_rows": null,
            "grid_gap": null,
            "max_width": null,
            "order": null,
            "_view_module_version": "1.2.0",
            "grid_template_areas": null,
            "object_position": null,
            "object_fit": null,
            "grid_auto_columns": null,
            "margin": null,
            "display": null,
            "left": null
          }
        },
        "82183b7f46dc420294a43b43b2480523": {
          "model_module": "@jupyter-widgets/controls",
          "model_name": "DescriptionStyleModel",
          "state": {
            "_view_name": "StyleView",
            "_model_name": "DescriptionStyleModel",
            "description_width": "",
            "_view_module": "@jupyter-widgets/base",
            "_model_module_version": "1.5.0",
            "_view_count": null,
            "_view_module_version": "1.2.0",
            "_model_module": "@jupyter-widgets/controls"
          }
        },
        "b1291845b2ab46f192727b223834fda6": {
          "model_module": "@jupyter-widgets/base",
          "model_name": "LayoutModel",
          "state": {
            "_view_name": "LayoutView",
            "grid_template_rows": null,
            "right": null,
            "justify_content": null,
            "_view_module": "@jupyter-widgets/base",
            "overflow": null,
            "_model_module_version": "1.2.0",
            "_view_count": null,
            "flex_flow": null,
            "width": null,
            "min_width": null,
            "border": null,
            "align_items": null,
            "bottom": null,
            "_model_module": "@jupyter-widgets/base",
            "top": null,
            "grid_column": null,
            "overflow_y": null,
            "overflow_x": null,
            "grid_auto_flow": null,
            "grid_area": null,
            "grid_template_columns": null,
            "flex": null,
            "_model_name": "LayoutModel",
            "justify_items": null,
            "grid_row": null,
            "max_height": null,
            "align_content": null,
            "visibility": null,
            "align_self": null,
            "height": null,
            "min_height": null,
            "padding": null,
            "grid_auto_rows": null,
            "grid_gap": null,
            "max_width": null,
            "order": null,
            "_view_module_version": "1.2.0",
            "grid_template_areas": null,
            "object_position": null,
            "object_fit": null,
            "grid_auto_columns": null,
            "margin": null,
            "display": null,
            "left": null
          }
        }
      }
    }
  },
  "cells": [
    {
      "cell_type": "markdown",
      "metadata": {
        "id": "view-in-github",
        "colab_type": "text"
      },
      "source": [
        "<a href=\"https://colab.research.google.com/github/Chandradithya8/Machine-Learning/blob/master/Hyperparameter_Tuning_Techniques.ipynb\" target=\"_parent\"><img src=\"https://colab.research.google.com/assets/colab-badge.svg\" alt=\"Open In Colab\"/></a>"
      ]
    },
    {
      "cell_type": "markdown",
      "metadata": {
        "id": "P99sGe0D1I4-"
      },
      "source": [
        "All Techniques Of Hyper Parameter Optimization\n",
        "\n",
        "1.GridSearchCV\n",
        "\n",
        "2.RandomizedSearchCV\n",
        "\n",
        "3.Bayesian Optimization -Automate Hyperparameter Tuning (Hyperopt)\n",
        "\n",
        "4.Sequential Model Based Optimization(Tuning a scikit-learn estimator with skopt)\n",
        "\n",
        "5.Optuna- Automate Hyperparameter Tuning\n",
        "\n",
        "6.Genetic Algorithms (TPOT Classifier)"
      ]
    },
    {
      "cell_type": "markdown",
      "metadata": {
        "id": "FJq7yjZa0wvX"
      },
      "source": [
        "References\n",
        "\n",
        "1.https://github.com/fmfn/BayesianOptimization\n",
        "\n",
        "2.https://github.com/hyperopt/hyperopt\n",
        "\n",
        "3.https://www.jeremyjordan.me/hyperparameter-tuning/\n",
        "\n",
        "4.https://optuna.org/\n",
        "\n",
        "5.https://towardsdatascience.com/hyperparameters-optimization-526348bb8e2d(By \n",
        "Pier Paolo Ippolito )\n",
        "\n",
        "6.https://scikit-optimize.github.io/stable/auto_examples/hyperparameter-optimization.html"
      ]
    },
    {
      "cell_type": "code",
      "metadata": {
        "id": "u54QEbAg1EWJ"
      },
      "source": [
        "import warnings\n",
        "warnings.filterwarnings('ignore')"
      ],
      "execution_count": null,
      "outputs": []
    },
    {
      "cell_type": "code",
      "metadata": {
        "id": "fV5LwuHo0bUi",
        "outputId": "d921a8aa-2f67-4742-ceca-cad4aa202667",
        "colab": {
          "base_uri": "https://localhost:8080/",
          "height": 204
        }
      },
      "source": [
        "import pandas as pd\n",
        "df=pd.read_csv(\"/content/diabetes.csv.txt\")\n",
        "df.head()"
      ],
      "execution_count": null,
      "outputs": [
        {
          "output_type": "execute_result",
          "data": {
            "text/html": [
              "<div>\n",
              "<style scoped>\n",
              "    .dataframe tbody tr th:only-of-type {\n",
              "        vertical-align: middle;\n",
              "    }\n",
              "\n",
              "    .dataframe tbody tr th {\n",
              "        vertical-align: top;\n",
              "    }\n",
              "\n",
              "    .dataframe thead th {\n",
              "        text-align: right;\n",
              "    }\n",
              "</style>\n",
              "<table border=\"1\" class=\"dataframe\">\n",
              "  <thead>\n",
              "    <tr style=\"text-align: right;\">\n",
              "      <th></th>\n",
              "      <th>Pregnancies</th>\n",
              "      <th>Glucose</th>\n",
              "      <th>BloodPressure</th>\n",
              "      <th>SkinThickness</th>\n",
              "      <th>Insulin</th>\n",
              "      <th>BMI</th>\n",
              "      <th>DiabetesPedigreeFunction</th>\n",
              "      <th>Age</th>\n",
              "      <th>Outcome</th>\n",
              "    </tr>\n",
              "  </thead>\n",
              "  <tbody>\n",
              "    <tr>\n",
              "      <th>0</th>\n",
              "      <td>6</td>\n",
              "      <td>148</td>\n",
              "      <td>72</td>\n",
              "      <td>35</td>\n",
              "      <td>0</td>\n",
              "      <td>33.6</td>\n",
              "      <td>0.627</td>\n",
              "      <td>50</td>\n",
              "      <td>1</td>\n",
              "    </tr>\n",
              "    <tr>\n",
              "      <th>1</th>\n",
              "      <td>1</td>\n",
              "      <td>85</td>\n",
              "      <td>66</td>\n",
              "      <td>29</td>\n",
              "      <td>0</td>\n",
              "      <td>26.6</td>\n",
              "      <td>0.351</td>\n",
              "      <td>31</td>\n",
              "      <td>0</td>\n",
              "    </tr>\n",
              "    <tr>\n",
              "      <th>2</th>\n",
              "      <td>8</td>\n",
              "      <td>183</td>\n",
              "      <td>64</td>\n",
              "      <td>0</td>\n",
              "      <td>0</td>\n",
              "      <td>23.3</td>\n",
              "      <td>0.672</td>\n",
              "      <td>32</td>\n",
              "      <td>1</td>\n",
              "    </tr>\n",
              "    <tr>\n",
              "      <th>3</th>\n",
              "      <td>1</td>\n",
              "      <td>89</td>\n",
              "      <td>66</td>\n",
              "      <td>23</td>\n",
              "      <td>94</td>\n",
              "      <td>28.1</td>\n",
              "      <td>0.167</td>\n",
              "      <td>21</td>\n",
              "      <td>0</td>\n",
              "    </tr>\n",
              "    <tr>\n",
              "      <th>4</th>\n",
              "      <td>0</td>\n",
              "      <td>137</td>\n",
              "      <td>40</td>\n",
              "      <td>35</td>\n",
              "      <td>168</td>\n",
              "      <td>43.1</td>\n",
              "      <td>2.288</td>\n",
              "      <td>33</td>\n",
              "      <td>1</td>\n",
              "    </tr>\n",
              "  </tbody>\n",
              "</table>\n",
              "</div>"
            ],
            "text/plain": [
              "   Pregnancies  Glucose  BloodPressure  ...  DiabetesPedigreeFunction  Age  Outcome\n",
              "0            6      148             72  ...                     0.627   50        1\n",
              "1            1       85             66  ...                     0.351   31        0\n",
              "2            8      183             64  ...                     0.672   32        1\n",
              "3            1       89             66  ...                     0.167   21        0\n",
              "4            0      137             40  ...                     2.288   33        1\n",
              "\n",
              "[5 rows x 9 columns]"
            ]
          },
          "metadata": {
            "tags": []
          },
          "execution_count": 2
        }
      ]
    },
    {
      "cell_type": "code",
      "metadata": {
        "id": "9Onxq3Zc0G-d",
        "outputId": "91a8945b-7485-48e8-cc99-c06313c64955",
        "colab": {
          "base_uri": "https://localhost:8080/",
          "height": 204
        }
      },
      "source": [
        "import numpy as np\n",
        "df['Glucose']=np.where(df['Glucose']==0,df['Glucose'].median(),df['Glucose'])\n",
        "df['Insulin']=np.where(df['Insulin']==0,df['Insulin'].median(),df['Insulin'])\n",
        "df.head()"
      ],
      "execution_count": null,
      "outputs": [
        {
          "output_type": "execute_result",
          "data": {
            "text/html": [
              "<div>\n",
              "<style scoped>\n",
              "    .dataframe tbody tr th:only-of-type {\n",
              "        vertical-align: middle;\n",
              "    }\n",
              "\n",
              "    .dataframe tbody tr th {\n",
              "        vertical-align: top;\n",
              "    }\n",
              "\n",
              "    .dataframe thead th {\n",
              "        text-align: right;\n",
              "    }\n",
              "</style>\n",
              "<table border=\"1\" class=\"dataframe\">\n",
              "  <thead>\n",
              "    <tr style=\"text-align: right;\">\n",
              "      <th></th>\n",
              "      <th>Pregnancies</th>\n",
              "      <th>Glucose</th>\n",
              "      <th>BloodPressure</th>\n",
              "      <th>SkinThickness</th>\n",
              "      <th>Insulin</th>\n",
              "      <th>BMI</th>\n",
              "      <th>DiabetesPedigreeFunction</th>\n",
              "      <th>Age</th>\n",
              "      <th>Outcome</th>\n",
              "    </tr>\n",
              "  </thead>\n",
              "  <tbody>\n",
              "    <tr>\n",
              "      <th>0</th>\n",
              "      <td>6</td>\n",
              "      <td>148.0</td>\n",
              "      <td>72</td>\n",
              "      <td>35</td>\n",
              "      <td>30.5</td>\n",
              "      <td>33.6</td>\n",
              "      <td>0.627</td>\n",
              "      <td>50</td>\n",
              "      <td>1</td>\n",
              "    </tr>\n",
              "    <tr>\n",
              "      <th>1</th>\n",
              "      <td>1</td>\n",
              "      <td>85.0</td>\n",
              "      <td>66</td>\n",
              "      <td>29</td>\n",
              "      <td>30.5</td>\n",
              "      <td>26.6</td>\n",
              "      <td>0.351</td>\n",
              "      <td>31</td>\n",
              "      <td>0</td>\n",
              "    </tr>\n",
              "    <tr>\n",
              "      <th>2</th>\n",
              "      <td>8</td>\n",
              "      <td>183.0</td>\n",
              "      <td>64</td>\n",
              "      <td>0</td>\n",
              "      <td>30.5</td>\n",
              "      <td>23.3</td>\n",
              "      <td>0.672</td>\n",
              "      <td>32</td>\n",
              "      <td>1</td>\n",
              "    </tr>\n",
              "    <tr>\n",
              "      <th>3</th>\n",
              "      <td>1</td>\n",
              "      <td>89.0</td>\n",
              "      <td>66</td>\n",
              "      <td>23</td>\n",
              "      <td>94.0</td>\n",
              "      <td>28.1</td>\n",
              "      <td>0.167</td>\n",
              "      <td>21</td>\n",
              "      <td>0</td>\n",
              "    </tr>\n",
              "    <tr>\n",
              "      <th>4</th>\n",
              "      <td>0</td>\n",
              "      <td>137.0</td>\n",
              "      <td>40</td>\n",
              "      <td>35</td>\n",
              "      <td>168.0</td>\n",
              "      <td>43.1</td>\n",
              "      <td>2.288</td>\n",
              "      <td>33</td>\n",
              "      <td>1</td>\n",
              "    </tr>\n",
              "  </tbody>\n",
              "</table>\n",
              "</div>"
            ],
            "text/plain": [
              "   Pregnancies  Glucose  BloodPressure  ...  DiabetesPedigreeFunction  Age  Outcome\n",
              "0            6    148.0             72  ...                     0.627   50        1\n",
              "1            1     85.0             66  ...                     0.351   31        0\n",
              "2            8    183.0             64  ...                     0.672   32        1\n",
              "3            1     89.0             66  ...                     0.167   21        0\n",
              "4            0    137.0             40  ...                     2.288   33        1\n",
              "\n",
              "[5 rows x 9 columns]"
            ]
          },
          "metadata": {
            "tags": []
          },
          "execution_count": 3
        }
      ]
    },
    {
      "cell_type": "code",
      "metadata": {
        "id": "ZyYfCuXh0693"
      },
      "source": [
        "x=df.drop('Outcome',axis=1)\n",
        "y=df['Outcome']"
      ],
      "execution_count": null,
      "outputs": []
    },
    {
      "cell_type": "code",
      "metadata": {
        "id": "LktKPolv1XCL"
      },
      "source": [
        "from sklearn.model_selection import train_test_split\n",
        "x_train,x_test,y_train,y_test=train_test_split(x,y,train_size=0.7,random_state=33)"
      ],
      "execution_count": null,
      "outputs": []
    },
    {
      "cell_type": "code",
      "metadata": {
        "id": "BEZy4CKr2L1A"
      },
      "source": [
        "from sklearn.ensemble import RandomForestClassifier\n",
        "rf=RandomForestClassifier(n_estimators=10).fit(x_train,y_train)\n",
        "y_pred=rf.predict(x_test)"
      ],
      "execution_count": null,
      "outputs": []
    },
    {
      "cell_type": "code",
      "metadata": {
        "id": "Bs6844H72tN-",
        "outputId": "6dd3e9a3-0ff9-435f-c3e9-35a42f572db7",
        "colab": {
          "base_uri": "https://localhost:8080/",
          "height": 221
        }
      },
      "source": [
        "from sklearn.metrics import confusion_matrix,accuracy_score,classification_report\n",
        "print(confusion_matrix(y_pred,y_test))\n",
        "print(accuracy_score(y_pred,y_test))\n",
        "print(classification_report(y_pred,y_test))"
      ],
      "execution_count": null,
      "outputs": [
        {
          "output_type": "stream",
          "text": [
            "[[125  44]\n",
            " [ 21  41]]\n",
            "0.7186147186147186\n",
            "              precision    recall  f1-score   support\n",
            "\n",
            "           0       0.86      0.74      0.79       169\n",
            "           1       0.48      0.66      0.56        62\n",
            "\n",
            "    accuracy                           0.72       231\n",
            "   macro avg       0.67      0.70      0.68       231\n",
            "weighted avg       0.76      0.72      0.73       231\n",
            "\n"
          ],
          "name": "stdout"
        }
      ]
    },
    {
      "cell_type": "markdown",
      "metadata": {
        "id": "p4VZe-6O3d4U"
      },
      "source": [
        "The main parameters used by a Random Forest Classifier are:\n",
        "\n",
        "criterion = the function used to evaluate the quality of a split.\n",
        "\n",
        "max_depth = maximum number of levels allowed in each tree.\n",
        "\n",
        "max_features = maximum number of features considered when splitting a node.\n",
        "\n",
        "min_samples_leaf = minimum number of samples which can be stored in a tree leaf.\n",
        "\n",
        "min_samples_split = minimum number of samples necessary in a node to cause node splitting.\n",
        "\n",
        "n_estimators = number of trees in the ensamble."
      ]
    },
    {
      "cell_type": "code",
      "metadata": {
        "id": "9Tm9Hgn-3Xj1",
        "outputId": "bfcaf080-8225-469c-8b32-bf7ea322ae4b",
        "colab": {
          "base_uri": "https://localhost:8080/",
          "height": 221
        }
      },
      "source": [
        "rf=RandomForestClassifier(n_estimators=300, criterion='entropy', max_depth=10, min_samples_split=33, min_samples_leaf=5,).fit(x_train,y_train)\n",
        "y_pred=rf.predict(x_test)\n",
        "print(confusion_matrix(y_pred,y_test))\n",
        "print(accuracy_score(y_pred,y_test))\n",
        "print(classification_report(y_pred,y_test))"
      ],
      "execution_count": null,
      "outputs": [
        {
          "output_type": "stream",
          "text": [
            "[[132  43]\n",
            " [ 14  42]]\n",
            "0.7532467532467533\n",
            "              precision    recall  f1-score   support\n",
            "\n",
            "           0       0.90      0.75      0.82       175\n",
            "           1       0.49      0.75      0.60        56\n",
            "\n",
            "    accuracy                           0.75       231\n",
            "   macro avg       0.70      0.75      0.71       231\n",
            "weighted avg       0.80      0.75      0.77       231\n",
            "\n"
          ],
          "name": "stdout"
        }
      ]
    },
    {
      "cell_type": "markdown",
      "metadata": {
        "id": "IGhPejm64yaW"
      },
      "source": [
        "Randomized search *CV*"
      ]
    },
    {
      "cell_type": "code",
      "metadata": {
        "id": "WhM-yVNJ4sTr",
        "outputId": "350384c1-41c4-45eb-e75e-17c567005ca8",
        "colab": {
          "base_uri": "https://localhost:8080/",
          "height": 54
        }
      },
      "source": [
        "from sklearn.model_selection import RandomizedSearchCV\n",
        "n_estimators=[int(x) for x in np.linspace(200,2000,10)]\n",
        "criterion=['gini','entropy']\n",
        "max_depth=[int(y) for y in np.linspace(10,50,20) ]\n",
        "min_samples_split=[int(z) for z in np.linspace(10,100,25)]\n",
        "min_samples_leaf=[int(p) for p in np.linspace(1,20,5)]                                             \n",
        "max_features=['auto','log2','sqrt']\n",
        "grid={\n",
        "    'criterion':criterion,\n",
        "    'n_estimators':n_estimators,\n",
        "    'max_depth':max_depth,\n",
        "    'min_samples_split':min_samples_split,\n",
        "    'min_samples_leaf':min_samples_leaf,\n",
        "    'max_features':max_features\n",
        "}\n",
        "print(grid)"
      ],
      "execution_count": null,
      "outputs": [
        {
          "output_type": "stream",
          "text": [
            "{'criterion': ['gini', 'entropy'], 'n_estimators': [200, 400, 600, 800, 1000, 1200, 1400, 1600, 1800, 2000], 'max_depth': [10, 12, 14, 16, 18, 20, 22, 24, 26, 28, 31, 33, 35, 37, 39, 41, 43, 45, 47, 50], 'min_samples_split': [10, 13, 17, 21, 25, 28, 32, 36, 40, 43, 47, 51, 55, 58, 62, 66, 70, 73, 77, 81, 85, 88, 92, 96, 100], 'min_samples_leaf': [1, 5, 10, 15, 20], 'max_features': ['auto', 'log2', 'sqrt']}\n"
          ],
          "name": "stdout"
        }
      ]
    },
    {
      "cell_type": "code",
      "metadata": {
        "id": "t3vx3awv8BkQ",
        "outputId": "6f01caff-6a03-4160-92e8-91e0e8074a70",
        "colab": {
          "base_uri": "https://localhost:8080/",
          "height": 714
        }
      },
      "source": [
        "rs=RandomizedSearchCV(RandomForestClassifier(),grid,cv=5,n_iter=100,verbose=5,n_jobs=-1,random_state=100)\n",
        "rs.fit(x_train,y_train)"
      ],
      "execution_count": null,
      "outputs": [
        {
          "output_type": "stream",
          "text": [
            "Fitting 5 folds for each of 100 candidates, totalling 500 fits\n"
          ],
          "name": "stdout"
        },
        {
          "output_type": "stream",
          "text": [
            "[Parallel(n_jobs=-1)]: Using backend LokyBackend with 2 concurrent workers.\n",
            "[Parallel(n_jobs=-1)]: Done  14 tasks      | elapsed:   28.5s\n",
            "[Parallel(n_jobs=-1)]: Done  68 tasks      | elapsed:  1.5min\n",
            "[Parallel(n_jobs=-1)]: Done 158 tasks      | elapsed:  3.6min\n",
            "[Parallel(n_jobs=-1)]: Done 284 tasks      | elapsed:  5.9min\n",
            "[Parallel(n_jobs=-1)]: Done 446 tasks      | elapsed:  9.7min\n",
            "[Parallel(n_jobs=-1)]: Done 500 out of 500 | elapsed: 11.0min finished\n"
          ],
          "name": "stderr"
        },
        {
          "output_type": "execute_result",
          "data": {
            "text/plain": [
              "RandomizedSearchCV(cv=5, error_score=nan,\n",
              "                   estimator=RandomForestClassifier(bootstrap=True,\n",
              "                                                    ccp_alpha=0.0,\n",
              "                                                    class_weight=None,\n",
              "                                                    criterion='gini',\n",
              "                                                    max_depth=None,\n",
              "                                                    max_features='auto',\n",
              "                                                    max_leaf_nodes=None,\n",
              "                                                    max_samples=None,\n",
              "                                                    min_impurity_decrease=0.0,\n",
              "                                                    min_impurity_split=None,\n",
              "                                                    min_samples_leaf=1,\n",
              "                                                    min_samples_split=2,\n",
              "                                                    min_weight_fraction_leaf=0.0,\n",
              "                                                    n_estimators=100,\n",
              "                                                    n_jobs...\n",
              "                                                      35, 37, 39, 41, 43, 45,\n",
              "                                                      47, 50],\n",
              "                                        'max_features': ['auto', 'log2',\n",
              "                                                         'sqrt'],\n",
              "                                        'min_samples_leaf': [1, 5, 10, 15, 20],\n",
              "                                        'min_samples_split': [10, 13, 17, 21,\n",
              "                                                              25, 28, 32, 36,\n",
              "                                                              40, 43, 47, 51,\n",
              "                                                              55, 58, 62, 66,\n",
              "                                                              70, 73, 77, 81,\n",
              "                                                              85, 88, 92, 96,\n",
              "                                                              100],\n",
              "                                        'n_estimators': [200, 400, 600, 800,\n",
              "                                                         1000, 1200, 1400, 1600,\n",
              "                                                         1800, 2000]},\n",
              "                   pre_dispatch='2*n_jobs', random_state=100, refit=True,\n",
              "                   return_train_score=False, scoring=None, verbose=5)"
            ]
          },
          "metadata": {
            "tags": []
          },
          "execution_count": 22
        }
      ]
    },
    {
      "cell_type": "code",
      "metadata": {
        "id": "7n95wpTPD1Om",
        "outputId": "1d42c8ee-1d74-43cb-b08f-030d7b9ee165",
        "colab": {
          "base_uri": "https://localhost:8080/",
          "height": 119
        }
      },
      "source": [
        "rs.best_params_"
      ],
      "execution_count": null,
      "outputs": [
        {
          "output_type": "execute_result",
          "data": {
            "text/plain": [
              "{'criterion': 'entropy',\n",
              " 'max_depth': 24,\n",
              " 'max_features': 'auto',\n",
              " 'min_samples_leaf': 5,\n",
              " 'min_samples_split': 43,\n",
              " 'n_estimators': 200}"
            ]
          },
          "metadata": {
            "tags": []
          },
          "execution_count": 23
        }
      ]
    },
    {
      "cell_type": "code",
      "metadata": {
        "id": "aodkTJ-BD48B"
      },
      "source": [
        "model=rs.best_estimator_"
      ],
      "execution_count": null,
      "outputs": []
    },
    {
      "cell_type": "code",
      "metadata": {
        "id": "Fa_Lf85OEAS9",
        "outputId": "7d202783-00f8-4327-be3f-0e98a7dc0d80",
        "colab": {
          "base_uri": "https://localhost:8080/",
          "height": 221
        }
      },
      "source": [
        "y_pred=model.predict(x_test)\n",
        "print(confusion_matrix(y_pred,y_test))\n",
        "print(accuracy_score(y_pred,y_test))\n",
        "print(classification_report(y_pred,y_test))"
      ],
      "execution_count": null,
      "outputs": [
        {
          "output_type": "stream",
          "text": [
            "[[134  42]\n",
            " [ 12  43]]\n",
            "0.7662337662337663\n",
            "              precision    recall  f1-score   support\n",
            "\n",
            "           0       0.92      0.76      0.83       176\n",
            "           1       0.51      0.78      0.61        55\n",
            "\n",
            "    accuracy                           0.77       231\n",
            "   macro avg       0.71      0.77      0.72       231\n",
            "weighted avg       0.82      0.77      0.78       231\n",
            "\n"
          ],
          "name": "stdout"
        }
      ]
    },
    {
      "cell_type": "markdown",
      "metadata": {
        "id": "9seS5PruEbms"
      },
      "source": [
        "GridSearchCV"
      ]
    },
    {
      "cell_type": "code",
      "metadata": {
        "id": "Zv75-iZCEWMF"
      },
      "source": [
        "from sklearn.model_selection import GridSearchCV\n",
        "params_grid={\n",
        "    'criterion':[rs.best_params_['criterion']],\n",
        "    'n_estimators':[rs.best_params_['n_estimators'],rs.best_params_['n_estimators']-200,rs.best_params_['n_estimators']+200,rs.best_params_['n_estimators']+100,rs.best_params_['n_estimators']-100],\n",
        "    'max_depth':[rs.best_params_['max_depth']],\n",
        "    'min_samples_split':[rs.best_params_['min_samples_split'],rs.best_params_['min_samples_split']-2,rs.best_params_['min_samples_split']-1,rs.best_params_['min_samples_split']+1,rs.best_params_['min_samples_split']+2,rs.best_params_['min_samples_split']-3,rs.best_params_['min_samples_split']+3],\n",
        "    'min_samples_leaf':[rs.best_params_['min_samples_leaf'],rs.best_params_['min_samples_leaf']-5,rs.best_params_['min_samples_leaf']+5,rs.best_params_['min_samples_leaf']-3,rs.best_params_['min_samples_leaf']-2,rs.best_params_['min_samples_leaf']-1],\n",
        "    'max_features':['auto']\n",
        "    }"
      ],
      "execution_count": null,
      "outputs": []
    },
    {
      "cell_type": "code",
      "metadata": {
        "id": "Kl0bJi57Gid1",
        "outputId": "2bfd5dfa-b081-4aa8-b776-598dd5a51b28",
        "colab": {
          "base_uri": "https://localhost:8080/",
          "height": 561
        }
      },
      "source": [
        "gs=GridSearchCV(RandomForestClassifier(),params_grid,cv=3,n_jobs=-1,verbose=5)\n",
        "gs.fit(x_train,y_train)"
      ],
      "execution_count": null,
      "outputs": [
        {
          "output_type": "stream",
          "text": [
            "Fitting 3 folds for each of 210 candidates, totalling 630 fits\n"
          ],
          "name": "stdout"
        },
        {
          "output_type": "stream",
          "text": [
            "[Parallel(n_jobs=-1)]: Using backend LokyBackend with 2 concurrent workers.\n",
            "[Parallel(n_jobs=-1)]: Done  14 tasks      | elapsed:    4.0s\n",
            "[Parallel(n_jobs=-1)]: Done  68 tasks      | elapsed:   18.1s\n",
            "[Parallel(n_jobs=-1)]: Done 188 tasks      | elapsed:   34.5s\n",
            "[Parallel(n_jobs=-1)]: Done 342 tasks      | elapsed:  1.2min\n",
            "[Parallel(n_jobs=-1)]: Done 504 tasks      | elapsed:  1.9min\n",
            "[Parallel(n_jobs=-1)]: Done 630 out of 630 | elapsed:  2.5min finished\n"
          ],
          "name": "stderr"
        },
        {
          "output_type": "execute_result",
          "data": {
            "text/plain": [
              "GridSearchCV(cv=3, error_score=nan,\n",
              "             estimator=RandomForestClassifier(bootstrap=True, ccp_alpha=0.0,\n",
              "                                              class_weight=None,\n",
              "                                              criterion='gini', max_depth=None,\n",
              "                                              max_features='auto',\n",
              "                                              max_leaf_nodes=None,\n",
              "                                              max_samples=None,\n",
              "                                              min_impurity_decrease=0.0,\n",
              "                                              min_impurity_split=None,\n",
              "                                              min_samples_leaf=1,\n",
              "                                              min_samples_split=2,\n",
              "                                              min_weight_fraction_leaf=0.0,\n",
              "                                              n_estimators=100, n_jobs=None,\n",
              "                                              oob_score=False,\n",
              "                                              random_state=None, verbose=0,\n",
              "                                              warm_start=False),\n",
              "             iid='deprecated', n_jobs=-1,\n",
              "             param_grid={'criterion': ['entropy'], 'max_depth': [24],\n",
              "                         'max_features': ['auto'],\n",
              "                         'min_samples_leaf': [5, 0, 10, 2, 3, 4],\n",
              "                         'min_samples_split': [43, 41, 42, 44, 45, 40, 46],\n",
              "                         'n_estimators': [200, 0, 400, 300, 100]},\n",
              "             pre_dispatch='2*n_jobs', refit=True, return_train_score=False,\n",
              "             scoring=None, verbose=5)"
            ]
          },
          "metadata": {
            "tags": []
          },
          "execution_count": 36
        }
      ]
    },
    {
      "cell_type": "code",
      "metadata": {
        "id": "vcpvMnt3HuTR",
        "outputId": "8d6aacb6-b0ba-4f30-df3a-35b3dffb6b80",
        "colab": {
          "base_uri": "https://localhost:8080/",
          "height": 119
        }
      },
      "source": [
        "gs.best_params_"
      ],
      "execution_count": null,
      "outputs": [
        {
          "output_type": "execute_result",
          "data": {
            "text/plain": [
              "{'criterion': 'entropy',\n",
              " 'max_depth': 24,\n",
              " 'max_features': 'auto',\n",
              " 'min_samples_leaf': 2,\n",
              " 'min_samples_split': 43,\n",
              " 'n_estimators': 200}"
            ]
          },
          "metadata": {
            "tags": []
          },
          "execution_count": 37
        }
      ]
    },
    {
      "cell_type": "code",
      "metadata": {
        "id": "61SPg6bvH34M"
      },
      "source": [
        "model1=gs.best_estimator_"
      ],
      "execution_count": null,
      "outputs": []
    },
    {
      "cell_type": "code",
      "metadata": {
        "id": "Yla1bj2kH9yW",
        "outputId": "d38960c7-79f9-48a8-ca3f-a23f35bcf04e",
        "colab": {
          "base_uri": "https://localhost:8080/",
          "height": 221
        }
      },
      "source": [
        "y_pred=model1.predict(x_test)\n",
        "print(confusion_matrix(y_pred,y_test))\n",
        "print(accuracy_score(y_pred,y_test))\n",
        "print(classification_report(y_pred,y_test))"
      ],
      "execution_count": null,
      "outputs": [
        {
          "output_type": "stream",
          "text": [
            "[[128  41]\n",
            " [ 18  44]]\n",
            "0.7445887445887446\n",
            "              precision    recall  f1-score   support\n",
            "\n",
            "           0       0.88      0.76      0.81       169\n",
            "           1       0.52      0.71      0.60        62\n",
            "\n",
            "    accuracy                           0.74       231\n",
            "   macro avg       0.70      0.73      0.71       231\n",
            "weighted avg       0.78      0.74      0.76       231\n",
            "\n"
          ],
          "name": "stdout"
        }
      ]
    },
    {
      "cell_type": "markdown",
      "metadata": {
        "id": "0BKzu0XKdSwk"
      },
      "source": [
        "Genetic Algorithms\n",
        "\n",
        "Genetic Algorithms tries to apply natural selection mechanisms to Machine Learning contexts.\n",
        "\n",
        "Let's immagine we create a population of N Machine Learning models with some predifined Hyperparameters. We can then calculate the accuracy of each model and decide to keep just half of the models (the ones that performs best). We can now generate some offsprings having similar Hyperparameters to the ones of the best models so that go get again a population of N models. At this point we can again caltulate the accuracy of each model and repeate the cycle for a defined number of generations. In this way, just the best models will survive at the end of the process."
      ]
    },
    {
      "cell_type": "code",
      "metadata": {
        "id": "BJ-9Xl1DJUrm",
        "outputId": "e14b8f48-de24-4d67-c2a8-8f3876f123e3",
        "colab": {
          "base_uri": "https://localhost:8080/",
          "height": 204
        }
      },
      "source": [
        "import pandas as pd\n",
        "df=pd.read_csv(\"/content/diabetes.csv.txt\")\n",
        "df.head()"
      ],
      "execution_count": null,
      "outputs": [
        {
          "output_type": "execute_result",
          "data": {
            "text/html": [
              "<div>\n",
              "<style scoped>\n",
              "    .dataframe tbody tr th:only-of-type {\n",
              "        vertical-align: middle;\n",
              "    }\n",
              "\n",
              "    .dataframe tbody tr th {\n",
              "        vertical-align: top;\n",
              "    }\n",
              "\n",
              "    .dataframe thead th {\n",
              "        text-align: right;\n",
              "    }\n",
              "</style>\n",
              "<table border=\"1\" class=\"dataframe\">\n",
              "  <thead>\n",
              "    <tr style=\"text-align: right;\">\n",
              "      <th></th>\n",
              "      <th>Pregnancies</th>\n",
              "      <th>Glucose</th>\n",
              "      <th>BloodPressure</th>\n",
              "      <th>SkinThickness</th>\n",
              "      <th>Insulin</th>\n",
              "      <th>BMI</th>\n",
              "      <th>DiabetesPedigreeFunction</th>\n",
              "      <th>Age</th>\n",
              "      <th>Outcome</th>\n",
              "    </tr>\n",
              "  </thead>\n",
              "  <tbody>\n",
              "    <tr>\n",
              "      <th>0</th>\n",
              "      <td>6</td>\n",
              "      <td>148</td>\n",
              "      <td>72</td>\n",
              "      <td>35</td>\n",
              "      <td>0</td>\n",
              "      <td>33.6</td>\n",
              "      <td>0.627</td>\n",
              "      <td>50</td>\n",
              "      <td>1</td>\n",
              "    </tr>\n",
              "    <tr>\n",
              "      <th>1</th>\n",
              "      <td>1</td>\n",
              "      <td>85</td>\n",
              "      <td>66</td>\n",
              "      <td>29</td>\n",
              "      <td>0</td>\n",
              "      <td>26.6</td>\n",
              "      <td>0.351</td>\n",
              "      <td>31</td>\n",
              "      <td>0</td>\n",
              "    </tr>\n",
              "    <tr>\n",
              "      <th>2</th>\n",
              "      <td>8</td>\n",
              "      <td>183</td>\n",
              "      <td>64</td>\n",
              "      <td>0</td>\n",
              "      <td>0</td>\n",
              "      <td>23.3</td>\n",
              "      <td>0.672</td>\n",
              "      <td>32</td>\n",
              "      <td>1</td>\n",
              "    </tr>\n",
              "    <tr>\n",
              "      <th>3</th>\n",
              "      <td>1</td>\n",
              "      <td>89</td>\n",
              "      <td>66</td>\n",
              "      <td>23</td>\n",
              "      <td>94</td>\n",
              "      <td>28.1</td>\n",
              "      <td>0.167</td>\n",
              "      <td>21</td>\n",
              "      <td>0</td>\n",
              "    </tr>\n",
              "    <tr>\n",
              "      <th>4</th>\n",
              "      <td>0</td>\n",
              "      <td>137</td>\n",
              "      <td>40</td>\n",
              "      <td>35</td>\n",
              "      <td>168</td>\n",
              "      <td>43.1</td>\n",
              "      <td>2.288</td>\n",
              "      <td>33</td>\n",
              "      <td>1</td>\n",
              "    </tr>\n",
              "  </tbody>\n",
              "</table>\n",
              "</div>"
            ],
            "text/plain": [
              "   Pregnancies  Glucose  BloodPressure  ...  DiabetesPedigreeFunction  Age  Outcome\n",
              "0            6      148             72  ...                     0.627   50        1\n",
              "1            1       85             66  ...                     0.351   31        0\n",
              "2            8      183             64  ...                     0.672   32        1\n",
              "3            1       89             66  ...                     0.167   21        0\n",
              "4            0      137             40  ...                     2.288   33        1\n",
              "\n",
              "[5 rows x 9 columns]"
            ]
          },
          "metadata": {
            "tags": []
          },
          "execution_count": 1
        }
      ]
    },
    {
      "cell_type": "code",
      "metadata": {
        "id": "cf2KEBaUeOCm",
        "outputId": "a03676b9-d752-491f-9ff7-066b418b4d2f",
        "colab": {
          "base_uri": "https://localhost:8080/",
          "height": 204
        }
      },
      "source": [
        "import numpy as np\n",
        "df['Glucose']=np.where(df['Glucose']==0,df['Glucose'].median(),df['Glucose'])\n",
        "df.head()"
      ],
      "execution_count": null,
      "outputs": [
        {
          "output_type": "execute_result",
          "data": {
            "text/html": [
              "<div>\n",
              "<style scoped>\n",
              "    .dataframe tbody tr th:only-of-type {\n",
              "        vertical-align: middle;\n",
              "    }\n",
              "\n",
              "    .dataframe tbody tr th {\n",
              "        vertical-align: top;\n",
              "    }\n",
              "\n",
              "    .dataframe thead th {\n",
              "        text-align: right;\n",
              "    }\n",
              "</style>\n",
              "<table border=\"1\" class=\"dataframe\">\n",
              "  <thead>\n",
              "    <tr style=\"text-align: right;\">\n",
              "      <th></th>\n",
              "      <th>Pregnancies</th>\n",
              "      <th>Glucose</th>\n",
              "      <th>BloodPressure</th>\n",
              "      <th>SkinThickness</th>\n",
              "      <th>Insulin</th>\n",
              "      <th>BMI</th>\n",
              "      <th>DiabetesPedigreeFunction</th>\n",
              "      <th>Age</th>\n",
              "      <th>Outcome</th>\n",
              "    </tr>\n",
              "  </thead>\n",
              "  <tbody>\n",
              "    <tr>\n",
              "      <th>0</th>\n",
              "      <td>6</td>\n",
              "      <td>148.0</td>\n",
              "      <td>72</td>\n",
              "      <td>35</td>\n",
              "      <td>0</td>\n",
              "      <td>33.6</td>\n",
              "      <td>0.627</td>\n",
              "      <td>50</td>\n",
              "      <td>1</td>\n",
              "    </tr>\n",
              "    <tr>\n",
              "      <th>1</th>\n",
              "      <td>1</td>\n",
              "      <td>85.0</td>\n",
              "      <td>66</td>\n",
              "      <td>29</td>\n",
              "      <td>0</td>\n",
              "      <td>26.6</td>\n",
              "      <td>0.351</td>\n",
              "      <td>31</td>\n",
              "      <td>0</td>\n",
              "    </tr>\n",
              "    <tr>\n",
              "      <th>2</th>\n",
              "      <td>8</td>\n",
              "      <td>183.0</td>\n",
              "      <td>64</td>\n",
              "      <td>0</td>\n",
              "      <td>0</td>\n",
              "      <td>23.3</td>\n",
              "      <td>0.672</td>\n",
              "      <td>32</td>\n",
              "      <td>1</td>\n",
              "    </tr>\n",
              "    <tr>\n",
              "      <th>3</th>\n",
              "      <td>1</td>\n",
              "      <td>89.0</td>\n",
              "      <td>66</td>\n",
              "      <td>23</td>\n",
              "      <td>94</td>\n",
              "      <td>28.1</td>\n",
              "      <td>0.167</td>\n",
              "      <td>21</td>\n",
              "      <td>0</td>\n",
              "    </tr>\n",
              "    <tr>\n",
              "      <th>4</th>\n",
              "      <td>0</td>\n",
              "      <td>137.0</td>\n",
              "      <td>40</td>\n",
              "      <td>35</td>\n",
              "      <td>168</td>\n",
              "      <td>43.1</td>\n",
              "      <td>2.288</td>\n",
              "      <td>33</td>\n",
              "      <td>1</td>\n",
              "    </tr>\n",
              "  </tbody>\n",
              "</table>\n",
              "</div>"
            ],
            "text/plain": [
              "   Pregnancies  Glucose  BloodPressure  ...  DiabetesPedigreeFunction  Age  Outcome\n",
              "0            6    148.0             72  ...                     0.627   50        1\n",
              "1            1     85.0             66  ...                     0.351   31        0\n",
              "2            8    183.0             64  ...                     0.672   32        1\n",
              "3            1     89.0             66  ...                     0.167   21        0\n",
              "4            0    137.0             40  ...                     2.288   33        1\n",
              "\n",
              "[5 rows x 9 columns]"
            ]
          },
          "metadata": {
            "tags": []
          },
          "execution_count": 3
        }
      ]
    },
    {
      "cell_type": "code",
      "metadata": {
        "id": "a5n0A5qfhans"
      },
      "source": [
        "x=df.drop('Outcome',axis=1)\n",
        "y=df['Outcome']"
      ],
      "execution_count": null,
      "outputs": []
    },
    {
      "cell_type": "code",
      "metadata": {
        "id": "l2-692ziebdU",
        "outputId": "ef308ce6-8168-4ee8-b423-59f2a7867769",
        "colab": {
          "base_uri": "https://localhost:8080/",
          "height": 54
        }
      },
      "source": [
        "n_estimators = [int(x) for x in np.linspace(start = 200, stop = 2000, num = 10)]\n",
        "max_features = ['auto', 'sqrt','log2']\n",
        "max_depth = [int(x) for x in np.linspace(10, 1000,10)]\n",
        "min_samples_split = [2, 5, 10,14]\n",
        "min_samples_leaf = [1, 2, 4,6,8]\n",
        "param = {'n_estimators': n_estimators,\n",
        "               'max_features': max_features,\n",
        "               'max_depth': max_depth,\n",
        "               'min_samples_split': min_samples_split,\n",
        "               'min_samples_leaf': min_samples_leaf,\n",
        "              'criterion':['entropy','gini']}\n",
        "print(param)"
      ],
      "execution_count": null,
      "outputs": [
        {
          "output_type": "stream",
          "text": [
            "{'n_estimators': [200, 400, 600, 800, 1000, 1200, 1400, 1600, 1800, 2000], 'max_features': ['auto', 'sqrt', 'log2'], 'max_depth': [10, 120, 230, 340, 450, 560, 670, 780, 890, 1000], 'min_samples_split': [2, 5, 10, 14], 'min_samples_leaf': [1, 2, 4, 6, 8], 'criterion': ['entropy', 'gini']}\n"
          ],
          "name": "stdout"
        }
      ]
    },
    {
      "cell_type": "code",
      "metadata": {
        "id": "n3iCBh1lfBAv",
        "outputId": "511c58a0-8852-4067-f28e-84a87aac1fa3",
        "colab": {
          "base_uri": "https://localhost:8080/",
          "height": 564
        }
      },
      "source": [
        "pip install tpot"
      ],
      "execution_count": null,
      "outputs": [
        {
          "output_type": "stream",
          "text": [
            "Collecting tpot\n",
            "\u001b[?25l  Downloading https://files.pythonhosted.org/packages/14/5e/cb87b0257033a7a396e533a634079ee151a239d180efe2a8b1d2e3584d23/TPOT-0.11.5-py3-none-any.whl (82kB)\n",
            "\r\u001b[K     |████                            | 10kB 9.8MB/s eta 0:00:01\r\u001b[K     |████████                        | 20kB 1.7MB/s eta 0:00:01\r\u001b[K     |████████████                    | 30kB 2.2MB/s eta 0:00:01\r\u001b[K     |████████████████                | 40kB 2.5MB/s eta 0:00:01\r\u001b[K     |████████████████████            | 51kB 1.9MB/s eta 0:00:01\r\u001b[K     |████████████████████████        | 61kB 2.2MB/s eta 0:00:01\r\u001b[K     |████████████████████████████    | 71kB 2.4MB/s eta 0:00:01\r\u001b[K     |███████████████████████████████▉| 81kB 2.6MB/s eta 0:00:01\r\u001b[K     |████████████████████████████████| 92kB 2.4MB/s \n",
            "\u001b[?25hRequirement already satisfied: joblib>=0.13.2 in /usr/local/lib/python3.6/dist-packages (from tpot) (0.16.0)\n",
            "Requirement already satisfied: scipy>=1.3.1 in /usr/local/lib/python3.6/dist-packages (from tpot) (1.4.1)\n",
            "Collecting update-checker>=0.16\n",
            "  Downloading https://files.pythonhosted.org/packages/0c/ba/8dd7fa5f0b1c6a8ac62f8f57f7e794160c1f86f31c6d0fb00f582372a3e4/update_checker-0.18.0-py3-none-any.whl\n",
            "Requirement already satisfied: numpy>=1.16.3 in /usr/local/lib/python3.6/dist-packages (from tpot) (1.18.5)\n",
            "Requirement already satisfied: tqdm>=4.36.1 in /usr/local/lib/python3.6/dist-packages (from tpot) (4.41.1)\n",
            "Collecting stopit>=1.1.1\n",
            "  Downloading https://files.pythonhosted.org/packages/35/58/e8bb0b0fb05baf07bbac1450c447d753da65f9701f551dca79823ce15d50/stopit-1.1.2.tar.gz\n",
            "Requirement already satisfied: pandas>=0.24.2 in /usr/local/lib/python3.6/dist-packages (from tpot) (1.1.2)\n",
            "Collecting deap>=1.2\n",
            "\u001b[?25l  Downloading https://files.pythonhosted.org/packages/0a/eb/2bd0a32e3ce757fb26264765abbaedd6d4d3640d90219a513aeabd08ee2b/deap-1.3.1-cp36-cp36m-manylinux2010_x86_64.whl (157kB)\n",
            "\u001b[K     |████████████████████████████████| 163kB 8.2MB/s \n",
            "\u001b[?25hRequirement already satisfied: scikit-learn>=0.22.0 in /usr/local/lib/python3.6/dist-packages (from tpot) (0.22.2.post1)\n",
            "Requirement already satisfied: requests>=2.3.0 in /usr/local/lib/python3.6/dist-packages (from update-checker>=0.16->tpot) (2.23.0)\n",
            "Requirement already satisfied: python-dateutil>=2.7.3 in /usr/local/lib/python3.6/dist-packages (from pandas>=0.24.2->tpot) (2.8.1)\n",
            "Requirement already satisfied: pytz>=2017.2 in /usr/local/lib/python3.6/dist-packages (from pandas>=0.24.2->tpot) (2018.9)\n",
            "Requirement already satisfied: certifi>=2017.4.17 in /usr/local/lib/python3.6/dist-packages (from requests>=2.3.0->update-checker>=0.16->tpot) (2020.6.20)\n",
            "Requirement already satisfied: idna<3,>=2.5 in /usr/local/lib/python3.6/dist-packages (from requests>=2.3.0->update-checker>=0.16->tpot) (2.10)\n",
            "Requirement already satisfied: chardet<4,>=3.0.2 in /usr/local/lib/python3.6/dist-packages (from requests>=2.3.0->update-checker>=0.16->tpot) (3.0.4)\n",
            "Requirement already satisfied: urllib3!=1.25.0,!=1.25.1,<1.26,>=1.21.1 in /usr/local/lib/python3.6/dist-packages (from requests>=2.3.0->update-checker>=0.16->tpot) (1.24.3)\n",
            "Requirement already satisfied: six>=1.5 in /usr/local/lib/python3.6/dist-packages (from python-dateutil>=2.7.3->pandas>=0.24.2->tpot) (1.15.0)\n",
            "Building wheels for collected packages: stopit\n",
            "  Building wheel for stopit (setup.py) ... \u001b[?25l\u001b[?25hdone\n",
            "  Created wheel for stopit: filename=stopit-1.1.2-cp36-none-any.whl size=11956 sha256=9e8200d30a041693bc053f72ed2da92f14d6b5874b08233c8dff51109835ff39\n",
            "  Stored in directory: /root/.cache/pip/wheels/3c/85/2b/2580190404636bfc63e8de3dff629c03bb795021e1983a6cc7\n",
            "Successfully built stopit\n",
            "Installing collected packages: update-checker, stopit, deap, tpot\n",
            "Successfully installed deap-1.3.1 stopit-1.1.2 tpot-0.11.5 update-checker-0.18.0\n"
          ],
          "name": "stdout"
        }
      ]
    },
    {
      "cell_type": "code",
      "metadata": {
        "id": "uFr1NV_6glFw"
      },
      "source": [
        "from sklearn.ensemble import RandomForestClassifier\n",
        "from sklearn.model_selection import train_test_split\n",
        "x_train,x_test,y_train,y_test=train_test_split(x,y,train_size=0.7)"
      ],
      "execution_count": null,
      "outputs": []
    },
    {
      "cell_type": "code",
      "metadata": {
        "id": "pZzAy406fWPr",
        "outputId": "688336ca-41e6-4605-b826-cfe638d5f446",
        "colab": {
          "base_uri": "https://localhost:8080/",
          "height": 955,
          "referenced_widgets": [
            "6904ba0012f141ef9635ca0493d7a4cd",
            "b2918c01435b4eaba3fc348810687365",
            "27435970d2534fd6a289399c88615690",
            "8a1d949e71814199ad179a2f5d1d5b1f",
            "4c16babc76be41a1847c22269fcb593c",
            "7d886039199d4a88b6138ba5fc1d6907",
            "82183b7f46dc420294a43b43b2480523",
            "b1291845b2ab46f192727b223834fda6"
          ]
        }
      },
      "source": [
        "from tpot import TPOTClassifier\n",
        "tpot_classifier=TPOTClassifier(generations=5, population_size=24,\n",
        "                               offspring_size=12,verbosity= 2, early_stop= 12,\n",
        "                               scoring='accuracy',config_dict={\n",
        "                                   'sklearn.ensemble.RandomForestClassifier':param},\n",
        "                                   cv=3\n",
        "                               )\n",
        "tpot_classifier.fit(x_train,y_train)"
      ],
      "execution_count": null,
      "outputs": [
        {
          "output_type": "display_data",
          "data": {
            "application/vnd.jupyter.widget-view+json": {
              "model_id": "6904ba0012f141ef9635ca0493d7a4cd",
              "version_minor": 0,
              "version_major": 2
            },
            "text/plain": [
              "HBox(children=(FloatProgress(value=0.0, description='Optimization Progress', max=84.0, style=ProgressStyle(des…"
            ]
          },
          "metadata": {
            "tags": []
          }
        },
        {
          "output_type": "stream",
          "text": [
            "Exception ignored in: <function WeakSet.__init__.<locals>._remove at 0x7f6e640afd08>\n",
            "Traceback (most recent call last):\n",
            "  File \"/usr/lib/python3.6/_weakrefset.py\", line 38, in _remove\n",
            "    def _remove(item, selfref=ref(self)):\n",
            "stopit.utils.TimeoutException\n"
          ],
          "name": "stderr"
        },
        {
          "output_type": "stream",
          "text": [
            "\n",
            "Generation 1 - Current best internal CV score: 0.7728119180633147\n",
            "Generation 2 - Current best internal CV score: 0.7728119180633147\n",
            "Generation 3 - Current best internal CV score: 0.7746741154562384\n",
            "Generation 4 - Current best internal CV score: 0.7746741154562384\n",
            "\n",
            "Best pipeline: RandomForestClassifier(RandomForestClassifier(CombineDFs(input_matrix, input_matrix), criterion=gini, max_depth=560, max_features=sqrt, min_samples_leaf=8, min_samples_split=10, n_estimators=1600), criterion=gini, max_depth=340, max_features=sqrt, min_samples_leaf=4, min_samples_split=14, n_estimators=1800)\n"
          ],
          "name": "stdout"
        },
        {
          "output_type": "execute_result",
          "data": {
            "text/plain": [
              "TPOTClassifier(config_dict={'sklearn.ensemble.RandomForestClassifier': {'criterion': ['entropy',\n",
              "                                                                                      'gini'],\n",
              "                                                                        'max_depth': [10,\n",
              "                                                                                      120,\n",
              "                                                                                      230,\n",
              "                                                                                      340,\n",
              "                                                                                      450,\n",
              "                                                                                      560,\n",
              "                                                                                      670,\n",
              "                                                                                      780,\n",
              "                                                                                      890,\n",
              "                                                                                      1000],\n",
              "                                                                        'max_features': ['auto',\n",
              "                                                                                         'sqrt',\n",
              "                                                                                         'log2'],\n",
              "                                                                        'min_samples_leaf': [1,\n",
              "                                                                                             2,\n",
              "                                                                                             4,\n",
              "                                                                                             6,\n",
              "                                                                                             8],\n",
              "                                                                        'min_samples_split': [2,\n",
              "                                                                                              5,\n",
              "                                                                                              10,\n",
              "                                                                                              14],\n",
              "                                                                        'n_estimators': [200,\n",
              "                                                                                         400,\n",
              "                                                                                         600,\n",
              "                                                                                         800,\n",
              "                                                                                         1000,\n",
              "                                                                                         1200,\n",
              "                                                                                         1400,\n",
              "                                                                                         1600,\n",
              "                                                                                         1800,\n",
              "                                                                                         2000]}},\n",
              "               crossover_rate=0.1, cv=3, disa...se,\n",
              "               early_stop=12, generations=5,\n",
              "               log_file=<ipykernel.iostream.OutStream object at 0x7f6e4f4d5ac8>,\n",
              "               max_eval_time_mins=5, max_time_mins=None, memory=None,\n",
              "               mutation_rate=0.9, n_jobs=1, offspring_size=12,\n",
              "               periodic_checkpoint_folder=None, population_size=24,\n",
              "               random_state=None, scoring='accuracy', subsample=1.0,\n",
              "               template=None, use_dask=False, verbosity=2, warm_start=False)"
            ]
          },
          "metadata": {
            "tags": []
          },
          "execution_count": 15
        }
      ]
    },
    {
      "cell_type": "code",
      "metadata": {
        "id": "YwN-C5QWHjsi",
        "outputId": "00d018bc-cdf7-46ba-ce32-ceb58ee1122a",
        "colab": {
          "base_uri": "https://localhost:8080/",
          "height": 34
        }
      },
      "source": [
        "tpot_classifier.score(x_test,y_test)"
      ],
      "execution_count": null,
      "outputs": [
        {
          "output_type": "execute_result",
          "data": {
            "text/plain": [
              "0.7748917748917749"
            ]
          },
          "metadata": {
            "tags": []
          },
          "execution_count": 16
        }
      ]
    },
    {
      "cell_type": "markdown",
      "metadata": {
        "id": "rsuBbIpDcnof"
      },
      "source": [
        "**Automated Hyperparameter Tuning**\n",
        "\n",
        "Automated Hyperparameter Tuning can be done by using techniques such as\n",
        "\n",
        "Bayesian Optimization\n",
        "\n",
        "Gradient Descent\n",
        "\n",
        "Evolutionary Algorithms"
      ]
    },
    {
      "cell_type": "markdown",
      "metadata": {
        "id": "8I_ui0bFcyXB"
      },
      "source": [
        "**Bayesian Optimization**\n",
        "\n",
        "Bayesian optimization uses probability to find the minimum of a function. The final aim is to find the input value to a function which can gives us the lowest possible output value.It usually performs better than random,grid and manual search providing better performance in the testing phase and reduced optimization time. In Hyperopt, Bayesian Optimization can be implemented giving 3 three main parameters to the function fmin.\n",
        "\n",
        "Objective Function = defines the loss function to minimize.\n",
        "\n",
        "Domain Space = defines the range of input values to test (in Bayesian Optimization this space creates a probability distribution for each of the used Hyperparameters).\n",
        "\n",
        "Optimization Algorithm = defines the search algorithm to use to select the best input values to use in each new iteration.\n",
        "\n",
        "https://towardsdatascience.com/hyperparameter-optimization-in-python-part-2-hyperopt-5f661db91324\n"
      ]
    },
    {
      "cell_type": "code",
      "metadata": {
        "id": "hAmtlqMmcSz3",
        "outputId": "e4ee10a4-4363-41f6-8617-094b09033077",
        "colab": {
          "base_uri": "https://localhost:8080/",
          "height": 204
        }
      },
      "source": [
        "import pandas as pd\n",
        "df=pd.read_csv(\"/content/diabetes.csv.txt\")\n",
        "df.head()"
      ],
      "execution_count": 1,
      "outputs": [
        {
          "output_type": "execute_result",
          "data": {
            "text/html": [
              "<div>\n",
              "<style scoped>\n",
              "    .dataframe tbody tr th:only-of-type {\n",
              "        vertical-align: middle;\n",
              "    }\n",
              "\n",
              "    .dataframe tbody tr th {\n",
              "        vertical-align: top;\n",
              "    }\n",
              "\n",
              "    .dataframe thead th {\n",
              "        text-align: right;\n",
              "    }\n",
              "</style>\n",
              "<table border=\"1\" class=\"dataframe\">\n",
              "  <thead>\n",
              "    <tr style=\"text-align: right;\">\n",
              "      <th></th>\n",
              "      <th>Pregnancies</th>\n",
              "      <th>Glucose</th>\n",
              "      <th>BloodPressure</th>\n",
              "      <th>SkinThickness</th>\n",
              "      <th>Insulin</th>\n",
              "      <th>BMI</th>\n",
              "      <th>DiabetesPedigreeFunction</th>\n",
              "      <th>Age</th>\n",
              "      <th>Outcome</th>\n",
              "    </tr>\n",
              "  </thead>\n",
              "  <tbody>\n",
              "    <tr>\n",
              "      <th>0</th>\n",
              "      <td>6</td>\n",
              "      <td>148</td>\n",
              "      <td>72</td>\n",
              "      <td>35</td>\n",
              "      <td>0</td>\n",
              "      <td>33.6</td>\n",
              "      <td>0.627</td>\n",
              "      <td>50</td>\n",
              "      <td>1</td>\n",
              "    </tr>\n",
              "    <tr>\n",
              "      <th>1</th>\n",
              "      <td>1</td>\n",
              "      <td>85</td>\n",
              "      <td>66</td>\n",
              "      <td>29</td>\n",
              "      <td>0</td>\n",
              "      <td>26.6</td>\n",
              "      <td>0.351</td>\n",
              "      <td>31</td>\n",
              "      <td>0</td>\n",
              "    </tr>\n",
              "    <tr>\n",
              "      <th>2</th>\n",
              "      <td>8</td>\n",
              "      <td>183</td>\n",
              "      <td>64</td>\n",
              "      <td>0</td>\n",
              "      <td>0</td>\n",
              "      <td>23.3</td>\n",
              "      <td>0.672</td>\n",
              "      <td>32</td>\n",
              "      <td>1</td>\n",
              "    </tr>\n",
              "    <tr>\n",
              "      <th>3</th>\n",
              "      <td>1</td>\n",
              "      <td>89</td>\n",
              "      <td>66</td>\n",
              "      <td>23</td>\n",
              "      <td>94</td>\n",
              "      <td>28.1</td>\n",
              "      <td>0.167</td>\n",
              "      <td>21</td>\n",
              "      <td>0</td>\n",
              "    </tr>\n",
              "    <tr>\n",
              "      <th>4</th>\n",
              "      <td>0</td>\n",
              "      <td>137</td>\n",
              "      <td>40</td>\n",
              "      <td>35</td>\n",
              "      <td>168</td>\n",
              "      <td>43.1</td>\n",
              "      <td>2.288</td>\n",
              "      <td>33</td>\n",
              "      <td>1</td>\n",
              "    </tr>\n",
              "  </tbody>\n",
              "</table>\n",
              "</div>"
            ],
            "text/plain": [
              "   Pregnancies  Glucose  BloodPressure  ...  DiabetesPedigreeFunction  Age  Outcome\n",
              "0            6      148             72  ...                     0.627   50        1\n",
              "1            1       85             66  ...                     0.351   31        0\n",
              "2            8      183             64  ...                     0.672   32        1\n",
              "3            1       89             66  ...                     0.167   21        0\n",
              "4            0      137             40  ...                     2.288   33        1\n",
              "\n",
              "[5 rows x 9 columns]"
            ]
          },
          "metadata": {
            "tags": []
          },
          "execution_count": 1
        }
      ]
    },
    {
      "cell_type": "code",
      "metadata": {
        "id": "j39fZqzCea96",
        "outputId": "15ebd215-58fc-4e0e-a267-4dd72d0898cf",
        "colab": {
          "base_uri": "https://localhost:8080/",
          "height": 204
        }
      },
      "source": [
        "import numpy as np\n",
        "df['Glucose']=np.where(df['Glucose']==0,df['Glucose'].median(),df['Glucose'])\n",
        "df.head()"
      ],
      "execution_count": 2,
      "outputs": [
        {
          "output_type": "execute_result",
          "data": {
            "text/html": [
              "<div>\n",
              "<style scoped>\n",
              "    .dataframe tbody tr th:only-of-type {\n",
              "        vertical-align: middle;\n",
              "    }\n",
              "\n",
              "    .dataframe tbody tr th {\n",
              "        vertical-align: top;\n",
              "    }\n",
              "\n",
              "    .dataframe thead th {\n",
              "        text-align: right;\n",
              "    }\n",
              "</style>\n",
              "<table border=\"1\" class=\"dataframe\">\n",
              "  <thead>\n",
              "    <tr style=\"text-align: right;\">\n",
              "      <th></th>\n",
              "      <th>Pregnancies</th>\n",
              "      <th>Glucose</th>\n",
              "      <th>BloodPressure</th>\n",
              "      <th>SkinThickness</th>\n",
              "      <th>Insulin</th>\n",
              "      <th>BMI</th>\n",
              "      <th>DiabetesPedigreeFunction</th>\n",
              "      <th>Age</th>\n",
              "      <th>Outcome</th>\n",
              "    </tr>\n",
              "  </thead>\n",
              "  <tbody>\n",
              "    <tr>\n",
              "      <th>0</th>\n",
              "      <td>6</td>\n",
              "      <td>148.0</td>\n",
              "      <td>72</td>\n",
              "      <td>35</td>\n",
              "      <td>0</td>\n",
              "      <td>33.6</td>\n",
              "      <td>0.627</td>\n",
              "      <td>50</td>\n",
              "      <td>1</td>\n",
              "    </tr>\n",
              "    <tr>\n",
              "      <th>1</th>\n",
              "      <td>1</td>\n",
              "      <td>85.0</td>\n",
              "      <td>66</td>\n",
              "      <td>29</td>\n",
              "      <td>0</td>\n",
              "      <td>26.6</td>\n",
              "      <td>0.351</td>\n",
              "      <td>31</td>\n",
              "      <td>0</td>\n",
              "    </tr>\n",
              "    <tr>\n",
              "      <th>2</th>\n",
              "      <td>8</td>\n",
              "      <td>183.0</td>\n",
              "      <td>64</td>\n",
              "      <td>0</td>\n",
              "      <td>0</td>\n",
              "      <td>23.3</td>\n",
              "      <td>0.672</td>\n",
              "      <td>32</td>\n",
              "      <td>1</td>\n",
              "    </tr>\n",
              "    <tr>\n",
              "      <th>3</th>\n",
              "      <td>1</td>\n",
              "      <td>89.0</td>\n",
              "      <td>66</td>\n",
              "      <td>23</td>\n",
              "      <td>94</td>\n",
              "      <td>28.1</td>\n",
              "      <td>0.167</td>\n",
              "      <td>21</td>\n",
              "      <td>0</td>\n",
              "    </tr>\n",
              "    <tr>\n",
              "      <th>4</th>\n",
              "      <td>0</td>\n",
              "      <td>137.0</td>\n",
              "      <td>40</td>\n",
              "      <td>35</td>\n",
              "      <td>168</td>\n",
              "      <td>43.1</td>\n",
              "      <td>2.288</td>\n",
              "      <td>33</td>\n",
              "      <td>1</td>\n",
              "    </tr>\n",
              "  </tbody>\n",
              "</table>\n",
              "</div>"
            ],
            "text/plain": [
              "   Pregnancies  Glucose  BloodPressure  ...  DiabetesPedigreeFunction  Age  Outcome\n",
              "0            6    148.0             72  ...                     0.627   50        1\n",
              "1            1     85.0             66  ...                     0.351   31        0\n",
              "2            8    183.0             64  ...                     0.672   32        1\n",
              "3            1     89.0             66  ...                     0.167   21        0\n",
              "4            0    137.0             40  ...                     2.288   33        1\n",
              "\n",
              "[5 rows x 9 columns]"
            ]
          },
          "metadata": {
            "tags": []
          },
          "execution_count": 2
        }
      ]
    },
    {
      "cell_type": "code",
      "metadata": {
        "id": "Rnifmkcweh4O"
      },
      "source": [
        "x=df.drop('Outcome',axis=1)\n",
        "y=df['Outcome']"
      ],
      "execution_count": 4,
      "outputs": []
    },
    {
      "cell_type": "code",
      "metadata": {
        "id": "6YO53PSdenpl"
      },
      "source": [
        "from sklearn.model_selection import train_test_split\n",
        "from sklearn.ensemble import RandomForestClassifier\n",
        "x_train,x_test,y_train,y_test=train_test_split(x,y,train_size=0.7)"
      ],
      "execution_count": 6,
      "outputs": []
    },
    {
      "cell_type": "code",
      "metadata": {
        "id": "X7In774Ke3dd"
      },
      "source": [
        "from hyperopt import hp,fmin,tpe,STATUS_OK,Trials"
      ],
      "execution_count": 7,
      "outputs": []
    },
    {
      "cell_type": "code",
      "metadata": {
        "id": "VsZpsNjdhhws",
        "outputId": "4a4336d7-65d7-4ab1-cdf0-95618bc84866",
        "colab": {
          "base_uri": "https://localhost:8080/",
          "height": 119
        }
      },
      "source": [
        "space = {'criterion': hp.choice('criterion', ['entropy', 'gini']),\n",
        "        'max_depth': hp.quniform('max_depth', 10, 1200, 10),\n",
        "        'max_features': hp.choice('max_features', ['auto', 'sqrt','log2', None]),\n",
        "        'min_samples_leaf': hp.uniform('min_samples_leaf', 0, 0.5),\n",
        "        'min_samples_split' : hp.uniform ('min_samples_split', 0, 1),\n",
        "        'n_estimators' : hp.choice('n_estimators', [10, 50, 300, 750, 1200,1300,1500])\n",
        "    }\n",
        "space"
      ],
      "execution_count": 10,
      "outputs": [
        {
          "output_type": "execute_result",
          "data": {
            "text/plain": [
              "{'criterion': <hyperopt.pyll.base.Apply at 0x7f57d5e62a58>,\n",
              " 'max_depth': <hyperopt.pyll.base.Apply at 0x7f57d5e62c50>,\n",
              " 'max_features': <hyperopt.pyll.base.Apply at 0x7f57d5e62d68>,\n",
              " 'min_samples_leaf': <hyperopt.pyll.base.Apply at 0x7f57d5e62f98>,\n",
              " 'min_samples_split': <hyperopt.pyll.base.Apply at 0x7f57d5e68128>,\n",
              " 'n_estimators': <hyperopt.pyll.base.Apply at 0x7f57d5e68278>}"
            ]
          },
          "metadata": {
            "tags": []
          },
          "execution_count": 10
        }
      ]
    },
    {
      "cell_type": "code",
      "metadata": {
        "id": "mvAsZcsLmuF2"
      },
      "source": [
        "from sklearn.model_selection import cross_val_score\n",
        "def objective(space):\n",
        "    model = RandomForestClassifier(criterion = space['criterion'], max_depth = space['max_depth'],\n",
        "                                 max_features = space['max_features'],\n",
        "                                 min_samples_leaf = space['min_samples_leaf'],\n",
        "                                 min_samples_split = space['min_samples_split'],\n",
        "                                 n_estimators = space['n_estimators'], \n",
        "                                 )\n",
        "    \n",
        "    accuracy = cross_val_score(model, x_train, y_train, cv = 5).mean()\n",
        "\n",
        "    # We aim to maximize accuracy, therefore we return it as a negative value\n",
        "    return {'loss': -accuracy, 'status': STATUS_OK }"
      ],
      "execution_count": 13,
      "outputs": []
    },
    {
      "cell_type": "code",
      "metadata": {
        "id": "nrv7ZSsam8wC",
        "outputId": "37890afa-1157-4ab6-a541-8100e694363c",
        "colab": {
          "base_uri": "https://localhost:8080/",
          "height": 136
        }
      },
      "source": [
        "trials = Trials()\n",
        "best = fmin(fn= objective,\n",
        "            space= space,\n",
        "            algo= tpe.suggest,\n",
        "            max_evals = 80,\n",
        "            trials= trials)\n",
        "best"
      ],
      "execution_count": 14,
      "outputs": [
        {
          "output_type": "stream",
          "text": [
            "100%|██████████| 80/80 [09:10<00:00,  6.88s/it, best loss: -0.7784181377639322]\n"
          ],
          "name": "stdout"
        },
        {
          "output_type": "execute_result",
          "data": {
            "text/plain": [
              "{'criterion': 1,\n",
              " 'max_depth': 650.0,\n",
              " 'max_features': 2,\n",
              " 'min_samples_leaf': 0.001369131811931129,\n",
              " 'min_samples_split': 0.00964724336125422,\n",
              " 'n_estimators': 6}"
            ]
          },
          "metadata": {
            "tags": []
          },
          "execution_count": 14
        }
      ]
    },
    {
      "cell_type": "code",
      "metadata": {
        "id": "rzvctwL5m_Z6",
        "outputId": "7779af60-60f7-496f-ae1c-118794d127ca",
        "colab": {
          "base_uri": "https://localhost:8080/",
          "height": 68
        }
      },
      "source": [
        "crit = {0: 'entropy', 1: 'gini'}\n",
        "feat = {0: 'auto', 1: 'sqrt', 2: 'log2', 3: None}\n",
        "est = {0: 10, 1: 50, 2: 300, 3: 750, 4: 1200,5:1300,6:1500}\n",
        "\n",
        "\n",
        "print(crit[best['criterion']])\n",
        "print(feat[best['max_features']])\n",
        "print(est[best['n_estimators']])"
      ],
      "execution_count": 15,
      "outputs": [
        {
          "output_type": "stream",
          "text": [
            "gini\n",
            "log2\n",
            "1500\n"
          ],
          "name": "stdout"
        }
      ]
    },
    {
      "cell_type": "code",
      "metadata": {
        "id": "TCdFgmShpX_w",
        "outputId": "f50cdb19-8553-4a4f-99d5-8b9952ae10d0",
        "colab": {
          "base_uri": "https://localhost:8080/",
          "height": 34
        }
      },
      "source": [
        "best['min_samples_leaf']\n"
      ],
      "execution_count": 16,
      "outputs": [
        {
          "output_type": "execute_result",
          "data": {
            "text/plain": [
              "0.001369131811931129"
            ]
          },
          "metadata": {
            "tags": []
          },
          "execution_count": 16
        }
      ]
    },
    {
      "cell_type": "code",
      "metadata": {
        "id": "1czBtMOQpcIF",
        "outputId": "126359fb-2259-4641-d9cd-a0b1146f486e",
        "colab": {
          "base_uri": "https://localhost:8080/",
          "height": 221
        }
      },
      "source": [
        "from sklearn.metrics import confusion_matrix,accuracy_score,classification_report\n",
        "trainedforest = RandomForestClassifier(criterion = crit[best['criterion']], max_depth = best['max_depth'], \n",
        "                                       max_features = feat[best['max_features']], \n",
        "                                       min_samples_leaf = best['min_samples_leaf'], \n",
        "                                       min_samples_split = best['min_samples_split'], \n",
        "                                       n_estimators = est[best['n_estimators']]).fit(x_train,y_train)\n",
        "predictionforest = trainedforest.predict(x_test)\n",
        "print(confusion_matrix(y_test,predictionforest))\n",
        "print(accuracy_score(y_test,predictionforest))\n",
        "print(classification_report(y_test,predictionforest))\n",
        "acc5 = accuracy_score(y_test,predictionforest)"
      ],
      "execution_count": 19,
      "outputs": [
        {
          "output_type": "stream",
          "text": [
            "[[130  18]\n",
            " [ 37  46]]\n",
            "0.7619047619047619\n",
            "              precision    recall  f1-score   support\n",
            "\n",
            "           0       0.78      0.88      0.83       148\n",
            "           1       0.72      0.55      0.63        83\n",
            "\n",
            "    accuracy                           0.76       231\n",
            "   macro avg       0.75      0.72      0.73       231\n",
            "weighted avg       0.76      0.76      0.75       231\n",
            "\n"
          ],
          "name": "stdout"
        }
      ]
    },
    {
      "cell_type": "markdown",
      "metadata": {
        "id": "fP4-sWNXpvL2"
      },
      "source": [
        "**Optimize hyperparameters of the model using Optuna**\n",
        "\n",
        "The hyperparameters of the above algorithm are n_estimators and max_depth for which we can try different values to see if the model accuracy can be improved. The objective function is modified to accept a trial object. This trial has several methods for sampling hyperparameters. We create a study to run the hyperparameter optimization and finally read the best hyperparameters."
      ]
    },
    {
      "cell_type": "code",
      "metadata": {
        "id": "j-iVbpNkp_fc",
        "outputId": "52ce36d5-19b2-4f09-cc7b-2606e4efcf0b",
        "colab": {
          "base_uri": "https://localhost:8080/",
          "height": 1000
        }
      },
      "source": [
        "pip install optuna"
      ],
      "execution_count": 21,
      "outputs": [
        {
          "output_type": "stream",
          "text": [
            "Collecting optuna\n",
            "\u001b[?25l  Downloading https://files.pythonhosted.org/packages/67/2b/78129c5580f1743d897214e2d76c20bea8d41c414be6ef1b92c0ce13856e/optuna-2.2.0.tar.gz (246kB)\n",
            "\r\u001b[K     |█▎                              | 10kB 15.0MB/s eta 0:00:01\r\u001b[K     |██▋                             | 20kB 3.0MB/s eta 0:00:01\r\u001b[K     |████                            | 30kB 3.5MB/s eta 0:00:01\r\u001b[K     |█████▎                          | 40kB 4.1MB/s eta 0:00:01\r\u001b[K     |██████▋                         | 51kB 3.4MB/s eta 0:00:01\r\u001b[K     |████████                        | 61kB 4.0MB/s eta 0:00:01\r\u001b[K     |█████████▎                      | 71kB 4.0MB/s eta 0:00:01\r\u001b[K     |██████████▋                     | 81kB 4.5MB/s eta 0:00:01\r\u001b[K     |████████████                    | 92kB 4.9MB/s eta 0:00:01\r\u001b[K     |█████████████▎                  | 102kB 4.7MB/s eta 0:00:01\r\u001b[K     |██████████████▋                 | 112kB 4.7MB/s eta 0:00:01\r\u001b[K     |████████████████                | 122kB 4.7MB/s eta 0:00:01\r\u001b[K     |█████████████████▎              | 133kB 4.7MB/s eta 0:00:01\r\u001b[K     |██████████████████▋             | 143kB 4.7MB/s eta 0:00:01\r\u001b[K     |████████████████████            | 153kB 4.7MB/s eta 0:00:01\r\u001b[K     |█████████████████████▎          | 163kB 4.7MB/s eta 0:00:01\r\u001b[K     |██████████████████████▋         | 174kB 4.7MB/s eta 0:00:01\r\u001b[K     |████████████████████████        | 184kB 4.7MB/s eta 0:00:01\r\u001b[K     |█████████████████████████▎      | 194kB 4.7MB/s eta 0:00:01\r\u001b[K     |██████████████████████████▋     | 204kB 4.7MB/s eta 0:00:01\r\u001b[K     |████████████████████████████    | 215kB 4.7MB/s eta 0:00:01\r\u001b[K     |█████████████████████████████▎  | 225kB 4.7MB/s eta 0:00:01\r\u001b[K     |██████████████████████████████▋ | 235kB 4.7MB/s eta 0:00:01\r\u001b[K     |███████████████████████████████▉| 245kB 4.7MB/s eta 0:00:01\r\u001b[K     |████████████████████████████████| 256kB 4.7MB/s \n",
            "\u001b[?25h  Installing build dependencies ... \u001b[?25l\u001b[?25hdone\n",
            "  Getting requirements to build wheel ... \u001b[?25l\u001b[?25hdone\n",
            "    Preparing wheel metadata ... \u001b[?25l\u001b[?25hdone\n",
            "Collecting cmaes>=0.6.0\n",
            "  Downloading https://files.pythonhosted.org/packages/8d/3c/06c76ec8b54b9b1fad7f35e903fd25010fe3e0d41bd94cea5e6f12e0d651/cmaes-0.7.0-py3-none-any.whl\n",
            "Requirement already satisfied: scipy!=1.4.0 in /usr/local/lib/python3.6/dist-packages (from optuna) (1.4.1)\n",
            "Requirement already satisfied: packaging>=20.0 in /usr/local/lib/python3.6/dist-packages (from optuna) (20.4)\n",
            "Requirement already satisfied: tqdm in /usr/local/lib/python3.6/dist-packages (from optuna) (4.41.1)\n",
            "Collecting alembic\n",
            "\u001b[?25l  Downloading https://files.pythonhosted.org/packages/12/aa/c261dfd7f4ba6ce4701846a2689a46e2a172e012171de4378fc2926e3bf0/alembic-1.4.3-py2.py3-none-any.whl (159kB)\n",
            "\u001b[K     |████████████████████████████████| 163kB 12.8MB/s \n",
            "\u001b[?25hRequirement already satisfied: numpy in /usr/local/lib/python3.6/dist-packages (from optuna) (1.18.5)\n",
            "Collecting cliff\n",
            "\u001b[?25l  Downloading https://files.pythonhosted.org/packages/71/06/03b1f92d46546a18eabf33ff7f37ef422c18c93d5a926bf590fee32ebe75/cliff-3.4.0-py3-none-any.whl (76kB)\n",
            "\u001b[K     |████████████████████████████████| 81kB 6.5MB/s \n",
            "\u001b[?25hCollecting colorlog\n",
            "  Downloading https://files.pythonhosted.org/packages/8c/10/0b39be7ff1adb8888fe87c8628c071dec5ac282ac1c2312221f5feb09215/colorlog-4.4.0-py2.py3-none-any.whl\n",
            "Requirement already satisfied: joblib in /usr/local/lib/python3.6/dist-packages (from optuna) (0.16.0)\n",
            "Requirement already satisfied: sqlalchemy>=1.1.0 in /usr/local/lib/python3.6/dist-packages (from optuna) (1.3.19)\n",
            "Requirement already satisfied: pyparsing>=2.0.2 in /usr/local/lib/python3.6/dist-packages (from packaging>=20.0->optuna) (2.4.7)\n",
            "Requirement already satisfied: six in /usr/local/lib/python3.6/dist-packages (from packaging>=20.0->optuna) (1.15.0)\n",
            "Requirement already satisfied: python-dateutil in /usr/local/lib/python3.6/dist-packages (from alembic->optuna) (2.8.1)\n",
            "Collecting python-editor>=0.3\n",
            "  Downloading https://files.pythonhosted.org/packages/c6/d3/201fc3abe391bbae6606e6f1d598c15d367033332bd54352b12f35513717/python_editor-1.0.4-py3-none-any.whl\n",
            "Collecting Mako\n",
            "\u001b[?25l  Downloading https://files.pythonhosted.org/packages/a6/37/0e706200d22172eb8fa17d68a7ae22dec7631a0a92266634fb518a88a5b2/Mako-1.1.3-py2.py3-none-any.whl (75kB)\n",
            "\u001b[K     |████████████████████████████████| 81kB 4.0MB/s \n",
            "\u001b[?25hCollecting pbr!=2.1.0,>=2.0.0\n",
            "\u001b[?25l  Downloading https://files.pythonhosted.org/packages/fb/48/69046506f6ac61c1eaa9a0d42d22d54673b69e176d30ca98e3f61513e980/pbr-5.5.1-py2.py3-none-any.whl (106kB)\n",
            "\u001b[K     |████████████████████████████████| 112kB 17.2MB/s \n",
            "\u001b[?25hRequirement already satisfied: PrettyTable<0.8,>=0.7.2 in /usr/local/lib/python3.6/dist-packages (from cliff->optuna) (0.7.2)\n",
            "Collecting cmd2!=0.8.3,>=0.8.0\n",
            "\u001b[?25l  Downloading https://files.pythonhosted.org/packages/c6/94/0f4f16cff4977188d715a95ea3f90f054b7eb73b05afaf51431a3d77b992/cmd2-1.3.11-py3-none-any.whl (133kB)\n",
            "\u001b[K     |████████████████████████████████| 143kB 16.1MB/s \n",
            "\u001b[?25hRequirement already satisfied: PyYAML>=3.12 in /usr/local/lib/python3.6/dist-packages (from cliff->optuna) (3.13)\n",
            "Collecting stevedore>=2.0.1\n",
            "\u001b[?25l  Downloading https://files.pythonhosted.org/packages/b8/a1/004f04ba411a8002b02aadb089fd6868116c12ddc9f6d576175e89d07587/stevedore-3.2.2-py3-none-any.whl (42kB)\n",
            "\u001b[K     |████████████████████████████████| 51kB 5.4MB/s \n",
            "\u001b[?25hRequirement already satisfied: MarkupSafe>=0.9.2 in /usr/local/lib/python3.6/dist-packages (from Mako->alembic->optuna) (1.1.1)\n",
            "Requirement already satisfied: attrs>=16.3.0 in /usr/local/lib/python3.6/dist-packages (from cmd2!=0.8.3,>=0.8.0->cliff->optuna) (20.2.0)\n",
            "Collecting colorama>=0.3.7\n",
            "  Downloading https://files.pythonhosted.org/packages/44/98/5b86278fbbf250d239ae0ecb724f8572af1c91f4a11edf4d36a206189440/colorama-0.4.4-py2.py3-none-any.whl\n",
            "Requirement already satisfied: wcwidth>=0.1.7 in /usr/local/lib/python3.6/dist-packages (from cmd2!=0.8.3,>=0.8.0->cliff->optuna) (0.2.5)\n",
            "Requirement already satisfied: importlib-metadata>=1.6.0; python_version < \"3.8\" in /usr/local/lib/python3.6/dist-packages (from cmd2!=0.8.3,>=0.8.0->cliff->optuna) (2.0.0)\n",
            "Collecting pyperclip>=1.6\n",
            "  Downloading https://files.pythonhosted.org/packages/6f/4c/0b1d507ad7e8bc31d690d04b4f475e74c2002d060f7994ce8c09612df707/pyperclip-1.8.1.tar.gz\n",
            "Requirement already satisfied: setuptools>=34.4 in /usr/local/lib/python3.6/dist-packages (from cmd2!=0.8.3,>=0.8.0->cliff->optuna) (50.3.0)\n",
            "Requirement already satisfied: zipp>=0.5 in /usr/local/lib/python3.6/dist-packages (from importlib-metadata>=1.6.0; python_version < \"3.8\"->cmd2!=0.8.3,>=0.8.0->cliff->optuna) (3.2.0)\n",
            "Building wheels for collected packages: optuna\n",
            "  Building wheel for optuna (PEP 517) ... \u001b[?25l\u001b[?25hdone\n",
            "  Created wheel for optuna: filename=optuna-2.2.0-cp36-none-any.whl size=340928 sha256=2368c5732194b438778c518cbefc877bec0b639904c8e516a34351a51400bfd5\n",
            "  Stored in directory: /root/.cache/pip/wheels/a6/27/26/3ef57a8fb2c8bceef3f4ece73483cec1895e06eae442d34a41\n",
            "Successfully built optuna\n",
            "Building wheels for collected packages: pyperclip\n",
            "  Building wheel for pyperclip (setup.py) ... \u001b[?25l\u001b[?25hdone\n",
            "  Created wheel for pyperclip: filename=pyperclip-1.8.1-cp36-none-any.whl size=11119 sha256=752b72f158c2c6a8482ee6a253bddd555e1a6384d0d15ef90c01e0fa252905c2\n",
            "  Stored in directory: /root/.cache/pip/wheels/44/10/3a/c830e9bb3db2c93274ea1f213a41fabde0d8cf3794251fad0c\n",
            "Successfully built pyperclip\n",
            "Installing collected packages: cmaes, python-editor, Mako, alembic, pbr, colorama, pyperclip, cmd2, stevedore, cliff, colorlog, optuna\n",
            "Successfully installed Mako-1.1.3 alembic-1.4.3 cliff-3.4.0 cmaes-0.7.0 cmd2-1.3.11 colorama-0.4.4 colorlog-4.4.0 optuna-2.2.0 pbr-5.5.1 pyperclip-1.8.1 python-editor-1.0.4 stevedore-3.2.2\n"
          ],
          "name": "stdout"
        }
      ]
    },
    {
      "cell_type": "code",
      "metadata": {
        "id": "ze14k8c9puUl"
      },
      "source": [
        "import optuna\n",
        "import sklearn.svm\n",
        "def objective(trial):\n",
        "\n",
        "    classifier = trial.suggest_categorical('classifier', ['RandomForest', 'SVC'])\n",
        "    \n",
        "    if classifier == 'RandomForest':\n",
        "        n_estimators = trial.suggest_int('n_estimators', 200, 2000,10)\n",
        "        max_depth = int(trial.suggest_float('max_depth', 10, 100, log=True))\n",
        "\n",
        "        clf = sklearn.ensemble.RandomForestClassifier(\n",
        "            n_estimators=n_estimators, max_depth=max_depth)\n",
        "    else:\n",
        "        c = trial.suggest_float('svc_c', 1e-10, 1e10, log=True)\n",
        "        \n",
        "        clf = sklearn.svm.SVC(C=c, gamma='auto')\n",
        "\n",
        "    return sklearn.model_selection.cross_val_score(\n",
        "        clf,x_train,y_train, n_jobs=-1, cv=3).mean()"
      ],
      "execution_count": 24,
      "outputs": []
    },
    {
      "cell_type": "code",
      "metadata": {
        "id": "_Gl69H0Zp67w",
        "outputId": "48b34e2d-69af-41ca-cc5f-a517be89249b",
        "colab": {
          "base_uri": "https://localhost:8080/",
          "height": 1000
        }
      },
      "source": [
        "study = optuna.create_study(direction='maximize')\n",
        "study.optimize(objective, n_trials=100)\n",
        "\n",
        "trial = study.best_trial\n",
        "\n",
        "print('Accuracy: {}'.format(trial.value))\n",
        "print(\"Best hyperparameters: {}\".format(trial.params))"
      ],
      "execution_count": 25,
      "outputs": [
        {
          "output_type": "stream",
          "text": [
            "\u001b[32m[I 2020-10-21 12:59:44,346]\u001b[0m A new study created in memory with name: no-name-3c55cf24-ed2b-4841-b6c8-71cb6356be44\u001b[0m\n",
            "\u001b[32m[I 2020-10-21 12:59:45,879]\u001b[0m Trial 0 finished with value: 0.6554934823091249 and parameters: {'classifier': 'SVC', 'svc_c': 18237218.307229165}. Best is trial 0 with value: 0.6554934823091249.\u001b[0m\n",
            "\u001b[32m[I 2020-10-21 12:59:48,671]\u001b[0m Trial 1 finished with value: 0.7802607076350093 and parameters: {'classifier': 'RandomForest', 'n_estimators': 610, 'max_depth': 13.075954439981574}. Best is trial 1 with value: 0.7802607076350093.\u001b[0m\n",
            "\u001b[32m[I 2020-10-21 12:59:48,716]\u001b[0m Trial 2 finished with value: 0.6554934823091249 and parameters: {'classifier': 'SVC', 'svc_c': 1.280093438654357e-07}. Best is trial 1 with value: 0.7802607076350093.\u001b[0m\n",
            "\u001b[32m[I 2020-10-21 12:59:56,049]\u001b[0m Trial 3 finished with value: 0.7821229050279329 and parameters: {'classifier': 'RandomForest', 'n_estimators': 1680, 'max_depth': 22.497915785724857}. Best is trial 3 with value: 0.7821229050279329.\u001b[0m\n",
            "\u001b[32m[I 2020-10-21 13:00:02,805]\u001b[0m Trial 4 finished with value: 0.7783985102420856 and parameters: {'classifier': 'RandomForest', 'n_estimators': 1540, 'max_depth': 14.073169943901684}. Best is trial 3 with value: 0.7821229050279329.\u001b[0m\n",
            "\u001b[32m[I 2020-10-21 13:00:02,849]\u001b[0m Trial 5 finished with value: 0.6554934823091249 and parameters: {'classifier': 'SVC', 'svc_c': 2.2137017037323536e-07}. Best is trial 3 with value: 0.7821229050279329.\u001b[0m\n",
            "\u001b[32m[I 2020-10-21 13:00:02,889]\u001b[0m Trial 6 finished with value: 0.6554934823091249 and parameters: {'classifier': 'SVC', 'svc_c': 8.32524788609853e-09}. Best is trial 3 with value: 0.7821229050279329.\u001b[0m\n",
            "\u001b[32m[I 2020-10-21 13:00:07,015]\u001b[0m Trial 7 finished with value: 0.7839851024208566 and parameters: {'classifier': 'RandomForest', 'n_estimators': 930, 'max_depth': 90.1588989751383}. Best is trial 7 with value: 0.7839851024208566.\u001b[0m\n",
            "\u001b[32m[I 2020-10-21 13:00:07,074]\u001b[0m Trial 8 finished with value: 0.6554934823091249 and parameters: {'classifier': 'SVC', 'svc_c': 223.21715767990577}. Best is trial 7 with value: 0.7839851024208566.\u001b[0m\n",
            "\u001b[32m[I 2020-10-21 13:00:10,490]\u001b[0m Trial 9 finished with value: 0.7839851024208566 and parameters: {'classifier': 'RandomForest', 'n_estimators': 790, 'max_depth': 12.39782475776231}. Best is trial 7 with value: 0.7839851024208566.\u001b[0m\n",
            "\u001b[32m[I 2020-10-21 13:00:11,737]\u001b[0m Trial 10 finished with value: 0.7746741154562383 and parameters: {'classifier': 'RandomForest', 'n_estimators': 280, 'max_depth': 94.61732901009067}. Best is trial 7 with value: 0.7839851024208566.\u001b[0m\n",
            "\u001b[32m[I 2020-10-21 13:00:15,717]\u001b[0m Trial 11 finished with value: 0.7802607076350093 and parameters: {'classifier': 'RandomForest', 'n_estimators': 910, 'max_depth': 86.07973393824015}. Best is trial 7 with value: 0.7839851024208566.\u001b[0m\n",
            "\u001b[32m[I 2020-10-21 13:00:20,586]\u001b[0m Trial 12 finished with value: 0.7802607076350093 and parameters: {'classifier': 'RandomForest', 'n_estimators': 1080, 'max_depth': 42.73594452483789}. Best is trial 7 with value: 0.7839851024208566.\u001b[0m\n",
            "\u001b[32m[I 2020-10-21 13:00:23,429]\u001b[0m Trial 13 finished with value: 0.7746741154562383 and parameters: {'classifier': 'RandomForest', 'n_estimators': 650, 'max_depth': 47.05455701527125}. Best is trial 7 with value: 0.7839851024208566.\u001b[0m\n",
            "\u001b[32m[I 2020-10-21 13:00:29,286]\u001b[0m Trial 14 finished with value: 0.7821229050279329 and parameters: {'classifier': 'RandomForest', 'n_estimators': 1340, 'max_depth': 23.550494727329223}. Best is trial 7 with value: 0.7839851024208566.\u001b[0m\n",
            "\u001b[32m[I 2020-10-21 13:00:32,432]\u001b[0m Trial 15 finished with value: 0.7802607076350093 and parameters: {'classifier': 'RandomForest', 'n_estimators': 720, 'max_depth': 63.48170036413019}. Best is trial 7 with value: 0.7839851024208566.\u001b[0m\n",
            "\u001b[32m[I 2020-10-21 13:00:33,333]\u001b[0m Trial 16 finished with value: 0.7746741154562384 and parameters: {'classifier': 'RandomForest', 'n_estimators': 200, 'max_depth': 11.504128397586728}. Best is trial 7 with value: 0.7839851024208566.\u001b[0m\n",
            "\u001b[32m[I 2020-10-21 13:00:38,499]\u001b[0m Trial 17 finished with value: 0.7839851024208566 and parameters: {'classifier': 'RandomForest', 'n_estimators': 1200, 'max_depth': 21.22982802152044}. Best is trial 7 with value: 0.7839851024208566.\u001b[0m\n",
            "\u001b[32m[I 2020-10-21 13:00:46,849]\u001b[0m Trial 18 finished with value: 0.7821229050279329 and parameters: {'classifier': 'RandomForest', 'n_estimators': 1940, 'max_depth': 21.47631636312836}. Best is trial 7 with value: 0.7839851024208566.\u001b[0m\n",
            "\u001b[32m[I 2020-10-21 13:00:53,218]\u001b[0m Trial 19 finished with value: 0.7783985102420856 and parameters: {'classifier': 'RandomForest', 'n_estimators': 1320, 'max_depth': 16.333338291540084}. Best is trial 7 with value: 0.7839851024208566.\u001b[0m\n",
            "\u001b[32m[I 2020-10-21 13:00:55,451]\u001b[0m Trial 20 finished with value: 0.7765363128491619 and parameters: {'classifier': 'RandomForest', 'n_estimators': 480, 'max_depth': 10.506071932106984}. Best is trial 7 with value: 0.7839851024208566.\u001b[0m\n",
            "\u001b[32m[I 2020-10-21 13:00:59,881]\u001b[0m Trial 21 finished with value: 0.7839851024208566 and parameters: {'classifier': 'RandomForest', 'n_estimators': 960, 'max_depth': 31.526884690615475}. Best is trial 7 with value: 0.7839851024208566.\u001b[0m\n",
            "\u001b[32m[I 2020-10-21 13:01:04,759]\u001b[0m Trial 22 finished with value: 0.7802607076350093 and parameters: {'classifier': 'RandomForest', 'n_estimators': 1130, 'max_depth': 32.64135685628231}. Best is trial 7 with value: 0.7839851024208566.\u001b[0m\n",
            "\u001b[32m[I 2020-10-21 13:01:09,084]\u001b[0m Trial 23 finished with value: 0.7765363128491619 and parameters: {'classifier': 'RandomForest', 'n_estimators': 1010, 'max_depth': 30.899626772745354}. Best is trial 7 with value: 0.7839851024208566.\u001b[0m\n",
            "\u001b[32m[I 2020-10-21 13:01:12,970]\u001b[0m Trial 24 finished with value: 0.7802607076350093 and parameters: {'classifier': 'RandomForest', 'n_estimators': 900, 'max_depth': 66.67764131985547}. Best is trial 7 with value: 0.7839851024208566.\u001b[0m\n",
            "\u001b[32m[I 2020-10-21 13:01:18,282]\u001b[0m Trial 25 finished with value: 0.7839851024208566 and parameters: {'classifier': 'RandomForest', 'n_estimators': 1240, 'max_depth': 30.24797429322427}. Best is trial 7 with value: 0.7839851024208566.\u001b[0m\n",
            "\u001b[32m[I 2020-10-21 13:01:23,716]\u001b[0m Trial 26 finished with value: 0.7821229050279329 and parameters: {'classifier': 'RandomForest', 'n_estimators': 1260, 'max_depth': 30.91360726760191}. Best is trial 7 with value: 0.7839851024208566.\u001b[0m\n",
            "\u001b[32m[I 2020-10-21 13:01:30,368]\u001b[0m Trial 27 finished with value: 0.7783985102420856 and parameters: {'classifier': 'RandomForest', 'n_estimators': 1550, 'max_depth': 17.925826925501568}. Best is trial 7 with value: 0.7839851024208566.\u001b[0m\n",
            "\u001b[32m[I 2020-10-21 13:01:35,661]\u001b[0m Trial 28 finished with value: 0.7839851024208566 and parameters: {'classifier': 'RandomForest', 'n_estimators': 1220, 'max_depth': 38.27913860114878}. Best is trial 7 with value: 0.7839851024208566.\u001b[0m\n",
            "\u001b[32m[I 2020-10-21 13:01:35,714]\u001b[0m Trial 29 finished with value: 0.6554934823091249 and parameters: {'classifier': 'SVC', 'svc_c': 3461789144.930713}. Best is trial 7 with value: 0.7839851024208566.\u001b[0m\n",
            "\u001b[32m[I 2020-10-21 13:01:41,816]\u001b[0m Trial 30 finished with value: 0.7895716945996275 and parameters: {'classifier': 'RandomForest', 'n_estimators': 1420, 'max_depth': 26.91469376384657}. Best is trial 30 with value: 0.7895716945996275.\u001b[0m\n",
            "\u001b[32m[I 2020-10-21 13:01:48,155]\u001b[0m Trial 31 finished with value: 0.7765363128491619 and parameters: {'classifier': 'RandomForest', 'n_estimators': 1460, 'max_depth': 42.53509955501937}. Best is trial 30 with value: 0.7895716945996275.\u001b[0m\n",
            "\u001b[32m[I 2020-10-21 13:01:55,681]\u001b[0m Trial 32 finished with value: 0.7783985102420856 and parameters: {'classifier': 'RandomForest', 'n_estimators': 1760, 'max_depth': 27.00649004292633}. Best is trial 30 with value: 0.7895716945996275.\u001b[0m\n",
            "\u001b[32m[I 2020-10-21 13:02:01,638]\u001b[0m Trial 33 finished with value: 0.7728119180633147 and parameters: {'classifier': 'RandomForest', 'n_estimators': 1400, 'max_depth': 18.815831768426374}. Best is trial 30 with value: 0.7895716945996275.\u001b[0m\n",
            "\u001b[32m[I 2020-10-21 13:02:06,671]\u001b[0m Trial 34 finished with value: 0.7746741154562383 and parameters: {'classifier': 'RandomForest', 'n_estimators': 1150, 'max_depth': 36.383503896321166}. Best is trial 30 with value: 0.7895716945996275.\u001b[0m\n",
            "\u001b[32m[I 2020-10-21 13:02:11,840]\u001b[0m Trial 35 finished with value: 0.7858472998137803 and parameters: {'classifier': 'RandomForest', 'n_estimators': 1210, 'max_depth': 26.24266497683159}. Best is trial 30 with value: 0.7895716945996275.\u001b[0m\n",
            "\u001b[32m[I 2020-10-21 13:02:19,040]\u001b[0m Trial 36 finished with value: 0.7802607076350093 and parameters: {'classifier': 'RandomForest', 'n_estimators': 1680, 'max_depth': 26.37694488032892}. Best is trial 30 with value: 0.7895716945996275.\u001b[0m\n",
            "\u001b[32m[I 2020-10-21 13:02:19,091]\u001b[0m Trial 37 finished with value: 0.6554934823091249 and parameters: {'classifier': 'SVC', 'svc_c': 0.09442620176517247}. Best is trial 30 with value: 0.7895716945996275.\u001b[0m\n",
            "\u001b[32m[I 2020-10-21 13:02:24,446]\u001b[0m Trial 38 finished with value: 0.7839851024208566 and parameters: {'classifier': 'RandomForest', 'n_estimators': 1250, 'max_depth': 51.279073054699474}. Best is trial 30 with value: 0.7895716945996275.\u001b[0m\n",
            "\u001b[32m[I 2020-10-21 13:02:30,702]\u001b[0m Trial 39 finished with value: 0.7783985102420856 and parameters: {'classifier': 'RandomForest', 'n_estimators': 1460, 'max_depth': 24.93748414047443}. Best is trial 30 with value: 0.7895716945996275.\u001b[0m\n",
            "\u001b[32m[I 2020-10-21 13:02:30,751]\u001b[0m Trial 40 finished with value: 0.6554934823091249 and parameters: {'classifier': 'SVC', 'svc_c': 0.03456172222164047}. Best is trial 30 with value: 0.7895716945996275.\u001b[0m\n",
            "\u001b[32m[I 2020-10-21 13:02:35,742]\u001b[0m Trial 41 finished with value: 0.7783985102420856 and parameters: {'classifier': 'RandomForest', 'n_estimators': 1150, 'max_depth': 20.701489475797658}. Best is trial 30 with value: 0.7895716945996275.\u001b[0m\n",
            "\u001b[32m[I 2020-10-21 13:02:40,946]\u001b[0m Trial 42 finished with value: 0.7728119180633147 and parameters: {'classifier': 'RandomForest', 'n_estimators': 1210, 'max_depth': 53.17027275102873}. Best is trial 30 with value: 0.7895716945996275.\u001b[0m\n",
            "\u001b[32m[I 2020-10-21 13:02:45,473]\u001b[0m Trial 43 finished with value: 0.7802607076350093 and parameters: {'classifier': 'RandomForest', 'n_estimators': 1050, 'max_depth': 36.43518436549122}. Best is trial 30 with value: 0.7895716945996275.\u001b[0m\n",
            "\u001b[32m[I 2020-10-21 13:02:52,190]\u001b[0m Trial 44 finished with value: 0.7821229050279329 and parameters: {'classifier': 'RandomForest', 'n_estimators': 1550, 'max_depth': 36.84838687346438}. Best is trial 30 with value: 0.7895716945996275.\u001b[0m\n",
            "\u001b[32m[I 2020-10-21 13:02:56,845]\u001b[0m Trial 45 finished with value: 0.7839851024208566 and parameters: {'classifier': 'RandomForest', 'n_estimators': 1010, 'max_depth': 14.781046281152664}. Best is trial 30 with value: 0.7895716945996275.\u001b[0m\n",
            "\u001b[32m[I 2020-10-21 13:03:00,521]\u001b[0m Trial 46 finished with value: 0.7877094972067039 and parameters: {'classifier': 'RandomForest', 'n_estimators': 830, 'max_depth': 13.909247237111273}. Best is trial 30 with value: 0.7895716945996275.\u001b[0m\n",
            "\u001b[32m[I 2020-10-21 13:03:02,684]\u001b[0m Trial 47 finished with value: 0.7783985102420857 and parameters: {'classifier': 'RandomForest', 'n_estimators': 500, 'max_depth': 27.37187874081506}. Best is trial 30 with value: 0.7895716945996275.\u001b[0m\n",
            "\u001b[32m[I 2020-10-21 13:03:06,101]\u001b[0m Trial 48 finished with value: 0.7802607076350093 and parameters: {'classifier': 'RandomForest', 'n_estimators': 790, 'max_depth': 52.49610386789573}. Best is trial 30 with value: 0.7895716945996275.\u001b[0m\n",
            "\u001b[32m[I 2020-10-21 13:03:09,701]\u001b[0m Trial 49 finished with value: 0.7765363128491619 and parameters: {'classifier': 'RandomForest', 'n_estimators': 830, 'max_depth': 12.634470272710377}. Best is trial 30 with value: 0.7895716945996275.\u001b[0m\n",
            "\u001b[32m[I 2020-10-21 13:03:09,756]\u001b[0m Trial 50 finished with value: 0.6554934823091249 and parameters: {'classifier': 'SVC', 'svc_c': 411094.13958956796}. Best is trial 30 with value: 0.7895716945996275.\u001b[0m\n",
            "\u001b[32m[I 2020-10-21 13:03:13,985]\u001b[0m Trial 51 finished with value: 0.7839851024208566 and parameters: {'classifier': 'RandomForest', 'n_estimators': 980, 'max_depth': 29.721771197726678}. Best is trial 30 with value: 0.7895716945996275.\u001b[0m\n",
            "\u001b[32m[I 2020-10-21 13:03:19,567]\u001b[0m Trial 52 finished with value: 0.7802607076350093 and parameters: {'classifier': 'RandomForest', 'n_estimators': 1300, 'max_depth': 14.473574541460948}. Best is trial 30 with value: 0.7895716945996275.\u001b[0m\n",
            "\u001b[32m[I 2020-10-21 13:03:23,607]\u001b[0m Trial 53 finished with value: 0.7821229050279329 and parameters: {'classifier': 'RandomForest', 'n_estimators': 940, 'max_depth': 19.408766398792537}. Best is trial 30 with value: 0.7895716945996275.\u001b[0m\n",
            "\u001b[32m[I 2020-10-21 13:03:28,147]\u001b[0m Trial 54 finished with value: 0.7821229050279329 and parameters: {'classifier': 'RandomForest', 'n_estimators': 1050, 'max_depth': 14.948923751298482}. Best is trial 30 with value: 0.7895716945996275.\u001b[0m\n",
            "\u001b[32m[I 2020-10-21 13:03:34,230]\u001b[0m Trial 55 finished with value: 0.7821229050279329 and parameters: {'classifier': 'RandomForest', 'n_estimators': 1410, 'max_depth': 41.16869455954622}. Best is trial 30 with value: 0.7895716945996275.\u001b[0m\n",
            "\u001b[32m[I 2020-10-21 13:03:37,156]\u001b[0m Trial 56 finished with value: 0.7839851024208566 and parameters: {'classifier': 'RandomForest', 'n_estimators': 680, 'max_depth': 49.122621456278196}. Best is trial 30 with value: 0.7895716945996275.\u001b[0m\n",
            "\u001b[32m[I 2020-10-21 13:03:40,896]\u001b[0m Trial 57 finished with value: 0.7821229050279329 and parameters: {'classifier': 'RandomForest', 'n_estimators': 860, 'max_depth': 16.579673443241468}. Best is trial 30 with value: 0.7895716945996275.\u001b[0m\n",
            "\u001b[32m[I 2020-10-21 13:03:43,657]\u001b[0m Trial 58 finished with value: 0.7728119180633146 and parameters: {'classifier': 'RandomForest', 'n_estimators': 630, 'max_depth': 72.25560947798938}. Best is trial 30 with value: 0.7895716945996275.\u001b[0m\n",
            "\u001b[32m[I 2020-10-21 13:03:48,454]\u001b[0m Trial 59 finished with value: 0.7802607076350093 and parameters: {'classifier': 'RandomForest', 'n_estimators': 1100, 'max_depth': 22.712211850599665}. Best is trial 30 with value: 0.7895716945996275.\u001b[0m\n",
            "\u001b[32m[I 2020-10-21 13:03:54,312]\u001b[0m Trial 60 finished with value: 0.7858472998137803 and parameters: {'classifier': 'RandomForest', 'n_estimators': 1350, 'max_depth': 10.993854077598577}. Best is trial 30 with value: 0.7895716945996275.\u001b[0m\n",
            "\u001b[32m[I 2020-10-21 13:04:00,175]\u001b[0m Trial 61 finished with value: 0.7821229050279329 and parameters: {'classifier': 'RandomForest', 'n_estimators': 1370, 'max_depth': 10.94450494905245}. Best is trial 30 with value: 0.7895716945996275.\u001b[0m\n",
            "\u001b[32m[I 2020-10-21 13:04:05,453]\u001b[0m Trial 62 finished with value: 0.7821229050279329 and parameters: {'classifier': 'RandomForest', 'n_estimators': 1200, 'max_depth': 24.465681236461776}. Best is trial 30 with value: 0.7895716945996275.\u001b[0m\n",
            "\u001b[32m[I 2020-10-21 13:04:09,774]\u001b[0m Trial 63 finished with value: 0.7765363128491619 and parameters: {'classifier': 'RandomForest', 'n_estimators': 1000, 'max_depth': 29.14779760911814}. Best is trial 30 with value: 0.7895716945996275.\u001b[0m\n",
            "\u001b[32m[I 2020-10-21 13:04:12,843]\u001b[0m Trial 64 finished with value: 0.7821229050279329 and parameters: {'classifier': 'RandomForest', 'n_estimators': 700, 'max_depth': 33.400819142513555}. Best is trial 30 with value: 0.7895716945996275.\u001b[0m\n",
            "\u001b[32m[I 2020-10-21 13:04:16,957]\u001b[0m Trial 65 finished with value: 0.7746741154562383 and parameters: {'classifier': 'RandomForest', 'n_estimators': 950, 'max_depth': 10.136339026217533}. Best is trial 30 with value: 0.7895716945996275.\u001b[0m\n",
            "\u001b[32m[I 2020-10-21 13:04:22,626]\u001b[0m Trial 66 finished with value: 0.7802607076350093 and parameters: {'classifier': 'RandomForest', 'n_estimators': 1310, 'max_depth': 11.915488046503556}. Best is trial 30 with value: 0.7895716945996275.\u001b[0m\n",
            "\u001b[32m[I 2020-10-21 13:04:24,952]\u001b[0m Trial 67 finished with value: 0.7765363128491619 and parameters: {'classifier': 'RandomForest', 'n_estimators': 540, 'max_depth': 13.971306714352433}. Best is trial 30 with value: 0.7895716945996275.\u001b[0m\n",
            "\u001b[32m[I 2020-10-21 13:04:31,408]\u001b[0m Trial 68 finished with value: 0.7839851024208566 and parameters: {'classifier': 'RandomForest', 'n_estimators': 1490, 'max_depth': 13.390808856506158}. Best is trial 30 with value: 0.7895716945996275.\u001b[0m\n",
            "\u001b[32m[I 2020-10-21 13:04:38,410]\u001b[0m Trial 69 finished with value: 0.7821229050279329 and parameters: {'classifier': 'RandomForest', 'n_estimators': 1620, 'max_depth': 13.38651586802147}. Best is trial 30 with value: 0.7895716945996275.\u001b[0m\n",
            "\u001b[32m[I 2020-10-21 13:04:43,703]\u001b[0m Trial 70 finished with value: 0.7783985102420856 and parameters: {'classifier': 'RandomForest', 'n_estimators': 1230, 'max_depth': 61.48005316202501}. Best is trial 30 with value: 0.7895716945996275.\u001b[0m\n",
            "\u001b[32m[I 2020-10-21 13:04:48,813]\u001b[0m Trial 71 finished with value: 0.7802607076350093 and parameters: {'classifier': 'RandomForest', 'n_estimators': 1180, 'max_depth': 34.34987172074412}. Best is trial 30 with value: 0.7895716945996275.\u001b[0m\n",
            "\u001b[32m[I 2020-10-21 13:04:52,164]\u001b[0m Trial 72 finished with value: 0.7783985102420856 and parameters: {'classifier': 'RandomForest', 'n_estimators': 770, 'max_depth': 28.357487774868275}. Best is trial 30 with value: 0.7895716945996275.\u001b[0m\n",
            "\u001b[32m[I 2020-10-21 13:04:53,643]\u001b[0m Trial 73 finished with value: 0.7746741154562383 and parameters: {'classifier': 'RandomForest', 'n_estimators': 340, 'max_depth': 46.06466646507349}. Best is trial 30 with value: 0.7895716945996275.\u001b[0m\n",
            "\u001b[32m[I 2020-10-21 13:04:56,634]\u001b[0m Trial 74 finished with value: 0.7802607076350093 and parameters: {'classifier': 'RandomForest', 'n_estimators': 690, 'max_depth': 54.50633329941859}. Best is trial 30 with value: 0.7895716945996275.\u001b[0m\n",
            "\u001b[32m[I 2020-10-21 13:05:02,202]\u001b[0m Trial 75 finished with value: 0.7802607076350093 and parameters: {'classifier': 'RandomForest', 'n_estimators': 1290, 'max_depth': 21.243461264365273}. Best is trial 30 with value: 0.7895716945996275.\u001b[0m\n",
            "\u001b[32m[I 2020-10-21 13:05:02,251]\u001b[0m Trial 76 finished with value: 0.6554934823091249 and parameters: {'classifier': 'SVC', 'svc_c': 1.0429268490730776e-10}. Best is trial 30 with value: 0.7895716945996275.\u001b[0m\n",
            "\u001b[32m[I 2020-10-21 13:05:08,531]\u001b[0m Trial 77 finished with value: 0.7839851024208566 and parameters: {'classifier': 'RandomForest', 'n_estimators': 1460, 'max_depth': 15.669471163109868}. Best is trial 30 with value: 0.7895716945996275.\u001b[0m\n",
            "\u001b[32m[I 2020-10-21 13:05:16,144]\u001b[0m Trial 78 finished with value: 0.7802607076350093 and parameters: {'classifier': 'RandomForest', 'n_estimators': 1780, 'max_depth': 11.228305023834046}. Best is trial 30 with value: 0.7895716945996275.\u001b[0m\n",
            "\u001b[32m[I 2020-10-21 13:05:22,675]\u001b[0m Trial 79 finished with value: 0.7783985102420856 and parameters: {'classifier': 'RandomForest', 'n_estimators': 1500, 'max_depth': 17.064237162957806}. Best is trial 30 with value: 0.7895716945996275.\u001b[0m\n",
            "\u001b[32m[I 2020-10-21 13:05:28,541]\u001b[0m Trial 80 finished with value: 0.7802607076350093 and parameters: {'classifier': 'RandomForest', 'n_estimators': 1360, 'max_depth': 31.41240443387014}. Best is trial 30 with value: 0.7895716945996275.\u001b[0m\n",
            "\u001b[32m[I 2020-10-21 13:05:32,989]\u001b[0m Trial 81 finished with value: 0.7709497206703911 and parameters: {'classifier': 'RandomForest', 'n_estimators': 1020, 'max_depth': 38.33949918439048}. Best is trial 30 with value: 0.7895716945996275.\u001b[0m\n",
            "\u001b[32m[I 2020-10-21 13:05:38,478]\u001b[0m Trial 82 finished with value: 0.7839851024208566 and parameters: {'classifier': 'RandomForest', 'n_estimators': 1260, 'max_depth': 48.220611558879604}. Best is trial 30 with value: 0.7895716945996275.\u001b[0m\n",
            "\u001b[32m[I 2020-10-21 13:05:43,263]\u001b[0m Trial 83 finished with value: 0.7802607076350093 and parameters: {'classifier': 'RandomForest', 'n_estimators': 1110, 'max_depth': 48.32385180732176}. Best is trial 30 with value: 0.7895716945996275.\u001b[0m\n",
            "\u001b[32m[I 2020-10-21 13:05:48,659]\u001b[0m Trial 84 finished with value: 0.7765363128491621 and parameters: {'classifier': 'RandomForest', 'n_estimators': 1250, 'max_depth': 47.008966098867916}. Best is trial 30 with value: 0.7895716945996275.\u001b[0m\n",
            "\u001b[32m[I 2020-10-21 13:05:54,792]\u001b[0m Trial 85 finished with value: 0.7802607076350093 and parameters: {'classifier': 'RandomForest', 'n_estimators': 1440, 'max_depth': 56.75133279488537}. Best is trial 30 with value: 0.7895716945996275.\u001b[0m\n",
            "\u001b[32m[I 2020-10-21 13:05:58,463]\u001b[0m Trial 86 finished with value: 0.7746741154562384 and parameters: {'classifier': 'RandomForest', 'n_estimators': 850, 'max_depth': 29.326313606657717}. Best is trial 30 with value: 0.7895716945996275.\u001b[0m\n",
            "\u001b[32m[I 2020-10-21 13:06:03,751]\u001b[0m Trial 87 finished with value: 0.7839851024208566 and parameters: {'classifier': 'RandomForest', 'n_estimators': 1160, 'max_depth': 25.895911936058393}. Best is trial 30 with value: 0.7895716945996275.\u001b[0m\n",
            "\u001b[32m[I 2020-10-21 13:06:11,068]\u001b[0m Trial 88 finished with value: 0.7821229050279329 and parameters: {'classifier': 'RandomForest', 'n_estimators': 1600, 'max_depth': 12.277008949001198}. Best is trial 30 with value: 0.7895716945996275.\u001b[0m\n",
            "\u001b[32m[I 2020-10-21 13:06:16,354]\u001b[0m Trial 89 finished with value: 0.7802607076350093 and parameters: {'classifier': 'RandomForest', 'n_estimators': 1150, 'max_depth': 40.05530678743016}. Best is trial 30 with value: 0.7895716945996275.\u001b[0m\n",
            "\u001b[32m[I 2020-10-21 13:06:16,399]\u001b[0m Trial 90 finished with value: 0.6554934823091249 and parameters: {'classifier': 'SVC', 'svc_c': 0.000459741880626147}. Best is trial 30 with value: 0.7895716945996275.\u001b[0m\n",
            "\u001b[32m[I 2020-10-21 13:06:22,672]\u001b[0m Trial 91 finished with value: 0.7858472998137803 and parameters: {'classifier': 'RandomForest', 'n_estimators': 1340, 'max_depth': 49.808558616077846}. Best is trial 30 with value: 0.7895716945996275.\u001b[0m\n",
            "\u001b[32m[I 2020-10-21 13:06:29,130]\u001b[0m Trial 92 finished with value: 0.7858472998137803 and parameters: {'classifier': 'RandomForest', 'n_estimators': 1510, 'max_depth': 13.1218619172137}. Best is trial 30 with value: 0.7895716945996275.\u001b[0m\n",
            "\u001b[32m[I 2020-10-21 13:06:34,900]\u001b[0m Trial 93 finished with value: 0.7858472998137803 and parameters: {'classifier': 'RandomForest', 'n_estimators': 1340, 'max_depth': 77.33365659890653}. Best is trial 30 with value: 0.7895716945996275.\u001b[0m\n",
            "\u001b[32m[I 2020-10-21 13:06:41,326]\u001b[0m Trial 94 finished with value: 0.7839851024208566 and parameters: {'classifier': 'RandomForest', 'n_estimators': 1500, 'max_depth': 93.8806402304288}. Best is trial 30 with value: 0.7895716945996275.\u001b[0m\n",
            "\u001b[32m[I 2020-10-21 13:06:47,467]\u001b[0m Trial 95 finished with value: 0.7746741154562383 and parameters: {'classifier': 'RandomForest', 'n_estimators': 1410, 'max_depth': 78.13459645341275}. Best is trial 30 with value: 0.7895716945996275.\u001b[0m\n",
            "\u001b[32m[I 2020-10-21 13:06:53,380]\u001b[0m Trial 96 finished with value: 0.7821229050279329 and parameters: {'classifier': 'RandomForest', 'n_estimators': 1360, 'max_depth': 44.17187806472673}. Best is trial 30 with value: 0.7895716945996275.\u001b[0m\n",
            "\u001b[32m[I 2020-10-21 13:07:00,070]\u001b[0m Trial 97 finished with value: 0.7783985102420856 and parameters: {'classifier': 'RandomForest', 'n_estimators': 1560, 'max_depth': 23.649122405096982}. Best is trial 30 with value: 0.7895716945996275.\u001b[0m\n",
            "\u001b[32m[I 2020-10-21 13:07:06,562]\u001b[0m Trial 98 finished with value: 0.7765363128491621 and parameters: {'classifier': 'RandomForest', 'n_estimators': 1500, 'max_depth': 85.7569726409233}. Best is trial 30 with value: 0.7895716945996275.\u001b[0m\n",
            "\u001b[32m[I 2020-10-21 13:07:13,799]\u001b[0m Trial 99 finished with value: 0.7821229050279329 and parameters: {'classifier': 'RandomForest', 'n_estimators': 1680, 'max_depth': 15.665578036915106}. Best is trial 30 with value: 0.7895716945996275.\u001b[0m\n"
          ],
          "name": "stderr"
        },
        {
          "output_type": "stream",
          "text": [
            "Accuracy: 0.7895716945996275\n",
            "Best hyperparameters: {'classifier': 'RandomForest', 'n_estimators': 1420, 'max_depth': 26.91469376384657}\n"
          ],
          "name": "stdout"
        }
      ]
    },
    {
      "cell_type": "code",
      "metadata": {
        "id": "eAjFq9w0qM67",
        "outputId": "de0c3900-6e10-44c0-b9f7-f4ae50a80345",
        "colab": {
          "base_uri": "https://localhost:8080/",
          "height": 54
        }
      },
      "source": [
        "trial"
      ],
      "execution_count": 26,
      "outputs": [
        {
          "output_type": "execute_result",
          "data": {
            "text/plain": [
              "FrozenTrial(number=30, value=0.7895716945996275, datetime_start=datetime.datetime(2020, 10, 21, 13, 1, 35, 715282), datetime_complete=datetime.datetime(2020, 10, 21, 13, 1, 41, 816335), params={'classifier': 'RandomForest', 'n_estimators': 1420, 'max_depth': 26.91469376384657}, distributions={'classifier': CategoricalDistribution(choices=('RandomForest', 'SVC')), 'n_estimators': IntUniformDistribution(high=2000, low=200, step=10), 'max_depth': LogUniformDistribution(high=100, low=10)}, user_attrs={}, system_attrs={}, intermediate_values={}, trial_id=30, state=TrialState.COMPLETE)"
            ]
          },
          "metadata": {
            "tags": []
          },
          "execution_count": 26
        }
      ]
    },
    {
      "cell_type": "code",
      "metadata": {
        "id": "z3aVbjBJqetK",
        "outputId": "a3fe8ea1-9e68-46c2-b664-e2bc6ba19fa7",
        "colab": {
          "base_uri": "https://localhost:8080/",
          "height": 68
        }
      },
      "source": [
        "study.best_params"
      ],
      "execution_count": 27,
      "outputs": [
        {
          "output_type": "execute_result",
          "data": {
            "text/plain": [
              "{'classifier': 'RandomForest',\n",
              " 'max_depth': 26.91469376384657,\n",
              " 'n_estimators': 1420}"
            ]
          },
          "metadata": {
            "tags": []
          },
          "execution_count": 27
        }
      ]
    },
    {
      "cell_type": "code",
      "metadata": {
        "id": "_ZNss6Qhqhwj",
        "outputId": "2d7b94ed-eee8-4128-f7a7-e22e2584cbf0",
        "colab": {
          "base_uri": "https://localhost:8080/",
          "height": 153
        }
      },
      "source": [
        "rf=RandomForestClassifier(n_estimators=330,max_depth=30)\n",
        "rf.fit(x_train,y_train)"
      ],
      "execution_count": 29,
      "outputs": [
        {
          "output_type": "execute_result",
          "data": {
            "text/plain": [
              "RandomForestClassifier(bootstrap=True, ccp_alpha=0.0, class_weight=None,\n",
              "                       criterion='gini', max_depth=30, max_features='auto',\n",
              "                       max_leaf_nodes=None, max_samples=None,\n",
              "                       min_impurity_decrease=0.0, min_impurity_split=None,\n",
              "                       min_samples_leaf=1, min_samples_split=2,\n",
              "                       min_weight_fraction_leaf=0.0, n_estimators=330,\n",
              "                       n_jobs=None, oob_score=False, random_state=None,\n",
              "                       verbose=0, warm_start=False)"
            ]
          },
          "metadata": {
            "tags": []
          },
          "execution_count": 29
        }
      ]
    },
    {
      "cell_type": "code",
      "metadata": {
        "id": "uY96pZlxqmlG",
        "outputId": "715f6159-025b-4a95-a2b9-c0f068776317",
        "colab": {
          "base_uri": "https://localhost:8080/",
          "height": 221
        }
      },
      "source": [
        "y_pred=rf.predict(x_test)\n",
        "print(confusion_matrix(y_test,y_pred))\n",
        "print(accuracy_score(y_test,y_pred))\n",
        "print(classification_report(y_test,y_pred))"
      ],
      "execution_count": 30,
      "outputs": [
        {
          "output_type": "stream",
          "text": [
            "[[133  15]\n",
            " [ 36  47]]\n",
            "0.7792207792207793\n",
            "              precision    recall  f1-score   support\n",
            "\n",
            "           0       0.79      0.90      0.84       148\n",
            "           1       0.76      0.57      0.65        83\n",
            "\n",
            "    accuracy                           0.78       231\n",
            "   macro avg       0.77      0.73      0.74       231\n",
            "weighted avg       0.78      0.78      0.77       231\n",
            "\n"
          ],
          "name": "stdout"
        }
      ]
    }
  ]
}