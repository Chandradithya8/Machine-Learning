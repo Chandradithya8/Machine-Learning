{
  "nbformat": 4,
  "nbformat_minor": 0,
  "metadata": {
    "colab": {
      "name": "ML_Pipelines.ipynb",
      "provenance": [],
      "authorship_tag": "ABX9TyOssUP2tBlo86cBL7rsCaVp",
      "include_colab_link": true
    },
    "kernelspec": {
      "name": "python3",
      "display_name": "Python 3"
    }
  },
  "cells": [
    {
      "cell_type": "markdown",
      "metadata": {
        "id": "view-in-github",
        "colab_type": "text"
      },
      "source": [
        "<a href=\"https://colab.research.google.com/github/Chandradithya8/Machine-Learning/blob/master/ML_Pipelines.ipynb\" target=\"_parent\"><img src=\"https://colab.research.google.com/assets/colab-badge.svg\" alt=\"Open In Colab\"/></a>"
      ]
    },
    {
      "cell_type": "code",
      "metadata": {
        "id": "F4K1Eug4lP0X"
      },
      "source": [
        "from sklearn.datasets import load_iris\r\n",
        "from sklearn.preprocessing import StandardScaler\r\n",
        "from sklearn.model_selection import train_test_split\r\n",
        "from sklearn.pipeline import Pipeline\r\n",
        "from sklearn.decomposition import PCA\r\n",
        "from sklearn.linear_model import LogisticRegression\r\n",
        "from sklearn.ensemble import RandomForestClassifier\r\n",
        "from sklearn.tree import DecisionTreeClassifier"
      ],
      "execution_count": 11,
      "outputs": []
    },
    {
      "cell_type": "code",
      "metadata": {
        "id": "tDe4r7kYWVcG"
      },
      "source": [
        "dataset=load_iris()"
      ],
      "execution_count": 8,
      "outputs": []
    },
    {
      "cell_type": "code",
      "metadata": {
        "id": "lwk9wCsBWaQE"
      },
      "source": [
        "x_train,x_test,y_train,y_test=train_test_split(dataset.data,dataset.target,train_size=0.7,stratify=dataset.target)"
      ],
      "execution_count": 10,
      "outputs": []
    },
    {
      "cell_type": "code",
      "metadata": {
        "id": "B5jdUGsKX09v"
      },
      "source": [
        "pipe1=Pipeline([( 'scaling1',StandardScaler())\r\n",
        ",('PCA1',PCA())\r\n",
        ",('model1',LogisticRegression())\r\n",
        "])"
      ],
      "execution_count": 14,
      "outputs": []
    },
    {
      "cell_type": "code",
      "metadata": {
        "id": "t7rmSN4TY5Db"
      },
      "source": [
        "pipe2=Pipeline([( 'scaling2',StandardScaler())\r\n",
        ",('PCA2',PCA())\r\n",
        ",('model2',RandomForestClassifier())\r\n",
        "])"
      ],
      "execution_count": 15,
      "outputs": []
    },
    {
      "cell_type": "code",
      "metadata": {
        "id": "KV0tylAgZAOD"
      },
      "source": [
        "pipe3=Pipeline([( 'scaling3',StandardScaler())\r\n",
        ",('PCA3',PCA())\r\n",
        ",('model3',DecisionTreeClassifier())\r\n",
        "])"
      ],
      "execution_count": 17,
      "outputs": []
    },
    {
      "cell_type": "code",
      "metadata": {
        "id": "KoPXEiUcZJfE"
      },
      "source": [
        "pipeline=[pipe1,pipe2,pipe3]"
      ],
      "execution_count": 18,
      "outputs": []
    },
    {
      "cell_type": "code",
      "metadata": {
        "id": "zsNyW529ZOdj"
      },
      "source": [
        "best_accuracy=0.0\r\n",
        "best_classifier=0\r\n",
        "best_pipeline=\"\""
      ],
      "execution_count": 19,
      "outputs": []
    },
    {
      "cell_type": "code",
      "metadata": {
        "id": "cTjKy37_ZZGL"
      },
      "source": [
        "pipe_dict={\r\n",
        "    0:'LogisticRegression',\r\n",
        "    1:'RandomForestClassifier',\r\n",
        "    2:'DecisionTreeClassifier'\r\n",
        "}\r\n",
        "\r\n",
        "for pipe in pipeline:\r\n",
        "  pipe.fit(x_train,y_train)"
      ],
      "execution_count": 23,
      "outputs": []
    },
    {
      "cell_type": "code",
      "metadata": {
        "colab": {
          "base_uri": "https://localhost:8080/"
        },
        "id": "5TJ5bIWfZ6eS",
        "outputId": "01bf2fa7-945c-4670-e5a9-0cdf3fc46c89"
      },
      "source": [
        "for i,model in enumerate(pipeline):\r\n",
        "  print('{} accuracy {}'.format(pipe_dict[i],model.score(x_test,y_test)))"
      ],
      "execution_count": 24,
      "outputs": [
        {
          "output_type": "stream",
          "text": [
            "LogisticRegression accuracy 0.9111111111111111\n",
            "RandomForestClassifier accuracy 0.9333333333333333\n",
            "DecisionTreeClassifier accuracy 0.9333333333333333\n"
          ],
          "name": "stdout"
        }
      ]
    },
    {
      "cell_type": "code",
      "metadata": {
        "colab": {
          "base_uri": "https://localhost:8080/"
        },
        "id": "tNCPkXYtasKu",
        "outputId": "197d9510-fb35-426c-cd20-9835af2ace78"
      },
      "source": [
        "# selecting the best model\r\n",
        "for i,model in enumerate(pipeline):\r\n",
        "  if best_accuracy<model.score(x_test,y_test):\r\n",
        "    best_accuracy=model.score(x_test,y_test)\r\n",
        "    best_pipeline=model\r\n",
        "    best_classifier=i\r\n",
        "print('{} : {}'.format(pipe_dict[best_classifier],best_accuracy))    "
      ],
      "execution_count": 28,
      "outputs": [
        {
          "output_type": "stream",
          "text": [
            "RandomForestClassifier : 0.9333333333333333\n"
          ],
          "name": "stdout"
        }
      ]
    }
  ]
}